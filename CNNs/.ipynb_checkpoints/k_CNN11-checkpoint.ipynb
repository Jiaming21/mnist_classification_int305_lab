{
 "cells": [
  {
   "cell_type": "code",
   "execution_count": 1,
   "id": "08adbf4e-9947-42d9-9de2-53642d92fd51",
   "metadata": {},
   "outputs": [],
   "source": [
    "import torch\n",
    "from torch.utils.data import DataLoader\n",
    "from torch import nn\n",
    "import torch.optim as optim\n",
    "import numpy as np\n",
    "from sklearn.metrics import roc_auc_score, accuracy_score, matthews_corrcoef, recall_score, precision_score\n",
    "from sklearn.metrics import confusion_matrix, f1_score, classification_report\n",
    "from sklearn.metrics import roc_curve\n",
    "import torch.nn.functional as F"
   ]
  },
  {
   "cell_type": "code",
   "execution_count": 2,
   "id": "86676630-63a4-47ce-a1de-00ad7b7815cb",
   "metadata": {},
   "outputs": [],
   "source": [
    "loaded_datasets_info = torch.load('/root/autodl-tmp/data/saved_datasets.pth', weights_only=False)\n",
    "train_dataset = loaded_datasets_info['train_dataset']\n",
    "test_dataset = loaded_datasets_info['test_dataset']"
   ]
  },
  {
   "cell_type": "code",
   "execution_count": 3,
   "id": "8fd37380-5869-4686-a49e-8efc83c251da",
   "metadata": {},
   "outputs": [],
   "source": [
    "batch_size = 10\n",
    "loaded_train_dataset = DataLoader(train_dataset, batch_size = batch_size, shuffle = False)\n",
    "loaded_test_dataset = DataLoader(test_dataset, batch_size = batch_size, shuffle = False)"
   ]
  },
  {
   "cell_type": "code",
   "execution_count": 4,
   "id": "305eeac2-6805-47f5-bbbe-585e7e6a56aa",
   "metadata": {},
   "outputs": [],
   "source": [
    "class CNN(nn.Module):\n",
    "    def __init__(self):\n",
    "        super(CNN, self).__init__()\n",
    "        self.conv_block1 = nn.Sequential(\n",
    "            nn.Conv2d(1, 32, kernel_size=5, stride=1, padding=2),\n",
    "            nn.BatchNorm2d(32),\n",
    "            nn.ReLU(inplace=True),\n",
    "            nn.Conv2d(32, 32, kernel_size=5, stride=1, padding=2),\n",
    "            nn.BatchNorm2d(32),\n",
    "            nn.ReLU(inplace=True),\n",
    "            nn.MaxPool2d(3, stride=2),\n",
    "        )\n",
    "        self.conv_block2 = nn.Sequential(\n",
    "            nn.Conv2d(32, 64, kernel_size=7, stride=1, padding=3),\n",
    "            nn.BatchNorm2d(64),\n",
    "            nn.ReLU(inplace=True),\n",
    "            nn.Conv2d(64, 64, kernel_size=7, stride=1, padding=3),\n",
    "            nn.BatchNorm2d(64),\n",
    "            nn.ReLU(inplace=True),\n",
    "            nn.MaxPool2d(3, stride=2),\n",
    "        )\n",
    "        self.fcs = nn.Sequential(\n",
    "            nn.Linear(2304, 1152),\n",
    "            nn.ReLU(inplace=True),\n",
    "            nn.Dropout(0.5),\n",
    "            nn.Linear(1152, 576),\n",
    "            nn.ReLU(inplace=True),\n",
    "            nn.Dropout(0.5),\n",
    "            nn.Linear(576, 10)\n",
    "        )\n",
    "    def forward(self, x):\n",
    "        x = self.conv_block1(x)\n",
    "        x = self.conv_block2(x)\n",
    "        x = x.reshape(x.shape[0], -1)\n",
    "        x = self.fcs(x)\n",
    "        return x"
   ]
  },
  {
   "cell_type": "code",
   "execution_count": 5,
   "id": "e945dca8-3abf-4485-8545-1b4290026319",
   "metadata": {},
   "outputs": [],
   "source": [
    "device = \"cuda\"\n",
    "model = CNN().to(device)\n",
    "criterion = nn.CrossEntropyLoss().to(device)\n",
    "optimizer = optim.Adam(params=model.parameters(), lr=0.001)\n",
    "num_epochs = 10"
   ]
  },
  {
   "cell_type": "code",
   "execution_count": 6,
   "id": "cdd49a46-df0b-4459-bd2e-164d01694342",
   "metadata": {},
   "outputs": [
    {
     "name": "stdout",
     "output_type": "stream",
     "text": [
      "Epoch 1/10, Loss: 2.125062889061788\n",
      "Epoch 2/10, Loss: 0.889256247547235\n",
      "Epoch 3/10, Loss: 0.6767055368163042\n",
      "Epoch 4/10, Loss: 0.6102426922282903\n",
      "Epoch 5/10, Loss: 0.5231304927496674\n",
      "Epoch 6/10, Loss: 0.5211075685163145\n",
      "Epoch 7/10, Loss: 0.451905971265301\n",
      "Epoch 8/10, Loss: 0.4655078522852431\n",
      "Epoch 9/10, Loss: 0.4762969758981153\n",
      "Epoch 10/10, Loss: 0.4319938644686228\n"
     ]
    }
   ],
   "source": [
    "for epoch in range(num_epochs):\n",
    "    model.train()\n",
    "    running_loss = 0.0\n",
    "    for batch_indx, (inputs, labels) in enumerate(loaded_train_dataset):\n",
    "        inputs = inputs.to(device)\n",
    "        labels = labels.to(device)\n",
    "        \n",
    "        optimizer.zero_grad()\n",
    "        outputs = model(inputs)\n",
    "        loss = criterion(outputs, labels)\n",
    "        loss.backward()\n",
    "        optimizer.step()\n",
    "        \n",
    "        running_loss += loss.item()\n",
    "        \n",
    "    # Print average loss for the epoch\n",
    "    print(f\"Epoch {epoch+1}/{num_epochs}, Loss: {running_loss / (len(loaded_train_dataset) / batch_size)}\")  "
   ]
  },
  {
   "cell_type": "code",
   "execution_count": 7,
   "id": "33b981a5-a296-41f4-ba2b-1c1df1c2ed7c",
   "metadata": {},
   "outputs": [],
   "source": [
    "torch.save(model.state_dict(), './model_params/CNN11.pth')"
   ]
  },
  {
   "cell_type": "code",
   "execution_count": 8,
   "id": "b4be1a1f-cd26-423a-934b-c89781d25773",
   "metadata": {},
   "outputs": [
    {
     "name": "stderr",
     "output_type": "stream",
     "text": [
      "/tmp/ipykernel_23386/257025280.py:1: FutureWarning: You are using `torch.load` with `weights_only=False` (the current default value), which uses the default pickle module implicitly. It is possible to construct malicious pickle data which will execute arbitrary code during unpickling (See https://github.com/pytorch/pytorch/blob/main/SECURITY.md#untrusted-models for more details). In a future release, the default value for `weights_only` will be flipped to `True`. This limits the functions that could be executed during unpickling. Arbitrary objects will no longer be allowed to be loaded via this mode unless they are explicitly allowlisted by the user via `torch.serialization.add_safe_globals`. We recommend you start setting `weights_only=True` for any use case where you don't have full control of the loaded file. Please open an issue on GitHub for any issues related to this experimental feature.\n",
      "  model.load_state_dict(torch.load('./model_params/CNN11.pth'))\n"
     ]
    },
    {
     "data": {
      "text/plain": [
       "<All keys matched successfully>"
      ]
     },
     "execution_count": 8,
     "metadata": {},
     "output_type": "execute_result"
    }
   ],
   "source": [
    "model.load_state_dict(torch.load('./model_params/CNN11.pth'))"
   ]
  },
  {
   "cell_type": "markdown",
   "id": "2fcdd5fa-0eb0-44a3-ab6d-2f3137371d21",
   "metadata": {},
   "source": [
    "### Metrics function definition"
   ]
  },
  {
   "cell_type": "code",
   "execution_count": 9,
   "id": "f9dc138a-4df7-4164-bc54-1c32c6ad2654",
   "metadata": {},
   "outputs": [],
   "source": [
    "# get roc_auc, metrics_sn, metrics_sp, metrics_ACC, metrics_F1, metrics_MCC\n",
    "def calculate_multiclass_metrics(true_labels, predicted_labels, predicted_probabilities, num_classes):\n",
    "    accuracy = accuracy_score(true_labels, predicted_labels)\n",
    "    mcc = matthews_corrcoef(true_labels, predicted_labels)\n",
    "    \n",
    "    sensitivity_per_class = []\n",
    "    specificity_per_class = []\n",
    "    auc_per_class = []\n",
    "    f1_per_class = []\n",
    "\n",
    "    for i in range(num_classes):\n",
    "        true_binary = (np.array(true_labels) == i).astype(int)\n",
    "        pred_binary = (np.array(predicted_labels) == i).astype(int)\n",
    "\n",
    "        cm = confusion_matrix(true_binary, pred_binary, labels=[0, 1])\n",
    "        tn, fp, fn, tp = cm.ravel()\n",
    "\n",
    "        sensitivity = tp / (tp + fn) if (tp + fn) > 0 else 0\n",
    "        specificity = tn / (tn + fp) if (tn + fp) > 0 else 0\n",
    "        sensitivity_per_class.append(sensitivity)\n",
    "        specificity_per_class.append(specificity)\n",
    "\n",
    "        \n",
    "        auc = roc_auc_score(true_binary, predicted_probabilities[:, i]) if len(np.unique(true_binary)) > 1 else 0\n",
    "        auc_per_class.append(auc)\n",
    "\n",
    "        f1 = f1_score(true_binary, pred_binary) if len(np.unique(true_binary)) > 1 else 0\n",
    "        f1_per_class.append(f1)\n",
    "\n",
    "    avg_sensitivity = np.mean(sensitivity_per_class)\n",
    "    avg_specificity = np.mean(specificity_per_class)\n",
    "    avg_auc = np.mean(auc_per_class) if auc_per_class else 0\n",
    "    avg_f1 = np.mean(f1_per_class)\n",
    "\n",
    "    print(f\"Average AUC: {avg_auc:.4f}\")\n",
    "    print(f\"Average Sensitivity: {avg_sensitivity:.4f}\")\n",
    "    print(f\"Average Specificity: {avg_specificity:.4f}\")\n",
    "    print(f\"Accuracy: {accuracy:.4f}\")\n",
    "    print(f\"Average F1-score: {avg_f1:.4f}\")\n",
    "    print(f\"Matthews Correlation Coefficient (MCC): {mcc:.4f}\")"
   ]
  },
  {
   "cell_type": "markdown",
   "id": "6a31433c-e0e2-4d59-bf44-9686791a0611",
   "metadata": {},
   "source": [
    "### Training data metrics"
   ]
  },
  {
   "cell_type": "code",
   "execution_count": 10,
   "id": "c3680c87-985b-4f75-8c9c-a4ee0b201957",
   "metadata": {},
   "outputs": [],
   "source": [
    "predicted_probabilities = []\n",
    "true_labels = []\n",
    "with torch.set_grad_enabled(False):\n",
    "    for batch_indx, (inputs, labels) in enumerate(loaded_train_dataset):\n",
    "        inputs = inputs.to(device)\n",
    "        labels = labels.to(device)      \n",
    "        outputs = model(inputs)\n",
    "        predicted_probabilities.extend(outputs.tolist())\n",
    "        true_labels.extend(labels.tolist())"
   ]
  },
  {
   "cell_type": "code",
   "execution_count": 11,
   "id": "4fb1a2ab-283c-410e-aeb2-1eb27a4ba72c",
   "metadata": {},
   "outputs": [
    {
     "name": "stdout",
     "output_type": "stream",
     "text": [
      "Average AUC: 0.9999\n",
      "Average Sensitivity: 0.9935\n",
      "Average Specificity: 0.9993\n",
      "Accuracy: 0.9935\n",
      "Average F1-score: 0.9934\n",
      "Matthews Correlation Coefficient (MCC): 0.9927\n"
     ]
    }
   ],
   "source": [
    "true_labels_ = np.argmax(true_labels, axis=-1)\n",
    "predicted_labels = np.argmax(predicted_probabilities, axis=-1)\n",
    "preds = torch.tensor(predicted_probabilities)\n",
    "preds = F.softmax(preds, dim=-1)\n",
    "\n",
    "train_metrics = calculate_multiclass_metrics(true_labels_, predicted_labels, preds, num_classes=10)"
   ]
  },
  {
   "cell_type": "code",
   "execution_count": 12,
   "id": "4fe9ae79-f128-4429-8a41-8d28bdf8d696",
   "metadata": {},
   "outputs": [],
   "source": [
    "# np.save('/root/autodl-tmp/ROC/CNN/y_train_pred.npy', preds)\n",
    "# np.save('/root/autodl-tmp/ROC/CNN/y_train.npy', true_labels)"
   ]
  },
  {
   "cell_type": "markdown",
   "id": "a8c02969-e6c4-4104-9629-c941380e686a",
   "metadata": {},
   "source": [
    "### Testing data metrics"
   ]
  },
  {
   "cell_type": "code",
   "execution_count": 13,
   "id": "25500b28-0706-4817-a87b-20aac0aade96",
   "metadata": {},
   "outputs": [],
   "source": [
    "predicted_probabilities = []  \n",
    "true_labels = []  \n",
    "with torch.set_grad_enabled(False): \n",
    "    for batch_indx, (inputs, labels) in enumerate(loaded_test_dataset):\n",
    "        inputs = inputs.to(device)\n",
    "        labels = labels.to(device)    \n",
    "        outputs = model(inputs)\n",
    "        predicted_probabilities.extend(outputs.tolist())\n",
    "        true_labels.extend(labels.tolist())"
   ]
  },
  {
   "cell_type": "code",
   "execution_count": 14,
   "id": "e0167c72-831d-4cd5-9366-2330e4712b4d",
   "metadata": {},
   "outputs": [
    {
     "name": "stdout",
     "output_type": "stream",
     "text": [
      "Average AUC: 0.9998\n",
      "Average Sensitivity: 0.9900\n",
      "Average Specificity: 0.9989\n",
      "Accuracy: 0.9901\n",
      "Average F1-score: 0.9900\n",
      "Matthews Correlation Coefficient (MCC): 0.9890\n"
     ]
    }
   ],
   "source": [
    "true_labels_ = np.argmax(true_labels, axis=-1)\n",
    "predicted_labels = np.argmax(predicted_probabilities, axis=-1)\n",
    "preds = torch.tensor(predicted_probabilities)\n",
    "preds = F.softmax(preds, dim=-1)\n",
    "\n",
    "test_metrics = calculate_multiclass_metrics(true_labels_, predicted_labels, preds, num_classes=10)"
   ]
  },
  {
   "cell_type": "code",
   "execution_count": 15,
   "id": "1ec8d54a-4f0c-4b04-8722-6e899b6cd643",
   "metadata": {},
   "outputs": [],
   "source": [
    "# np.save('/root/autodl-tmp/ROC/CNN/y_test_pred.npy', preds)\n",
    "# np.save('/root/autodl-tmp/ROC/CNN/y_test.npy', true_labels)"
   ]
  },
  {
   "cell_type": "code",
   "execution_count": null,
   "id": "b9f74c9c-5afa-46c8-ad0f-4c343b9b0147",
   "metadata": {},
   "outputs": [],
   "source": []
  },
  {
   "cell_type": "code",
   "execution_count": null,
   "id": "257211c1-70f0-4dbc-9da7-f100b36b0246",
   "metadata": {},
   "outputs": [],
   "source": []
  },
  {
   "cell_type": "code",
   "execution_count": null,
   "id": "f7bf40f9-6a96-478a-b110-58409382f33c",
   "metadata": {},
   "outputs": [],
   "source": []
  },
  {
   "cell_type": "code",
   "execution_count": null,
   "id": "b64b56ef-e005-4615-b177-3f6220508c8d",
   "metadata": {},
   "outputs": [],
   "source": []
  },
  {
   "cell_type": "code",
   "execution_count": null,
   "id": "7eec385f-68fb-40fe-b4ac-7c315121ca78",
   "metadata": {},
   "outputs": [],
   "source": []
  },
  {
   "cell_type": "markdown",
   "id": "44ea9ddb-2abf-4f44-8285-deaa72ac551b",
   "metadata": {},
   "source": [
    "#### Report 4 well classified and misclassified images (image and probability)"
   ]
  },
  {
   "cell_type": "markdown",
   "id": "806a801c-e21a-4528-b535-a9cfcba4ff8a",
   "metadata": {},
   "source": [
    "##### first image"
   ]
  },
  {
   "cell_type": "code",
   "execution_count": 440,
   "id": "4e494f18-069a-4166-8b9c-98a244a19da1",
   "metadata": {},
   "outputs": [],
   "source": [
    "correct_indices = [i for i, (p, t) in enumerate(zip(predicted_labels, true_labels_)) if p == t]\n",
    "selected_correct_indices = correct_indices[260:261]\n",
    "correct_probs = [preds[i][predicted_labels[i]].item() for i in selected_correct_indices]"
   ]
  },
  {
   "cell_type": "code",
   "execution_count": 441,
   "id": "417b1022-2c5c-412a-b588-d04791f5480e",
   "metadata": {},
   "outputs": [
    {
     "name": "stdout",
     "output_type": "stream",
     "text": [
      "selected_correct_indices: [266]\n",
      "correct_probs: [0.9274224042892456]\n"
     ]
    }
   ],
   "source": [
    "print(f\"selected_correct_indices: {selected_correct_indices}\")\n",
    "print(f\"correct_probs: {correct_probs}\")"
   ]
  },
  {
   "cell_type": "code",
   "execution_count": 443,
   "id": "1d77dc3b-1d99-4336-a261-20d8ab8e8826",
   "metadata": {},
   "outputs": [
    {
     "data": {
      "image/png": "[encoded data removed]",
      "text/plain": [
       "<Figure size 640x480 with 1 Axes>"
      ]
     },
     "metadata": {},
     "output_type": "display_data"
    }
   ],
   "source": [
    "import matplotlib.pyplot as plt\n",
    "\n",
    "loaded_test_dataset = DataLoader(test_dataset, batch_size = 1, shuffle = False)\n",
    "\n",
    "with torch.set_grad_enabled(False):\n",
    "    for batch_indx, (inputs, labels) in enumerate(loaded_test_dataset):\n",
    "        if batch_indx == 266:\n",
    "            img = inputs\n",
    "            label = int(labels.argmax(dim=-1).item())\n",
    "\n",
    "img = img.squeeze(0).numpy().transpose((1, 2, 0))\n",
    "#img = 1-img\n",
    "\n",
    "fig, ax = plt.subplots()\n",
    "ax.imshow(img)\n",
    "ax.axis('off')\n",
    "ax.set_title(f'Prob: {correct_probs[0]:.4f}', fontsize=12, loc='left')\n",
    "ax.set_title(f'Label: {label}', fontsize=12, loc='right')\n",
    "plt.savefig('./CAM/correct_1/correct_1.pdf', bbox_inches='tight', pad_inches=0)\n",
    "plt.savefig('./CAM/correct_1/correct_1.png', bbox_inches='tight', pad_inches=0)\n",
    "plt.show()"
   ]
  },
  {
   "cell_type": "markdown",
   "id": "b2b4d8ab-5951-4c4e-873d-57884a12fb3b",
   "metadata": {},
   "source": [
    "###### Grad-CAM"
   ]
  },
  {
   "cell_type": "code",
   "execution_count": 444,
   "id": "ef0b58a2-8ca5-4adb-b906-fdae81a90743",
   "metadata": {},
   "outputs": [
    {
     "data": {
      "image/png": "[encoded data removed]",
      "text/plain": [
       "<Figure size 640x480 with 1 Axes>"
      ]
     },
     "metadata": {},
     "output_type": "display_data"
    }
   ],
   "source": [
    "from pytorch_grad_cam import GradCAM\n",
    "from pytorch_grad_cam.utils.image import show_cam_on_image\n",
    "from pytorch_grad_cam.utils.model_targets import ClassifierOutputTarget\n",
    "import matplotlib.pyplot as plt\n",
    "import numpy as np\n",
    "import cv2\n",
    "\n",
    "model = model.to(\"cpu\")\n",
    "\n",
    "loaded_test_dataset = DataLoader(test_dataset, batch_size=1, shuffle=False)\n",
    "\n",
    "target_layers = [model.conv_block1]\n",
    "\n",
    "with torch.set_grad_enabled(False):\n",
    "    for batch_indx, (inputs, labels) in enumerate(loaded_test_dataset):\n",
    "        if batch_indx == 266:  # Replace with the desired image index\n",
    "            img_tensor = inputs\n",
    "            img_np = inputs.squeeze(0).permute(1, 2, 0).numpy()\n",
    "            img_np = img_np / img_np.max()  # Normalize to [0, 1]\n",
    "\n",
    "# Apply Grad-CAM\n",
    "cam = GradCAM(model=model, target_layers=target_layers)\n",
    "\n",
    "# Set the target class\n",
    "preds = model(img_tensor)  # Get predictions\n",
    "target_class = int(torch.argmax(preds).item())  # Or use `labels.item()`\n",
    "targets = [ClassifierOutputTarget(target_class)]\n",
    "\n",
    "# Generate the CAM\n",
    "grayscale_cam = cam(input_tensor=img_tensor, targets=targets)\n",
    "grayscale_cam = grayscale_cam[0, :]  # For single image\n",
    "\n",
    "# Convert CAM to heatmap and overlay it on the image\n",
    "heatmap = cv2.applyColorMap(np.uint8(255 * grayscale_cam), cv2.COLORMAP_JET)\n",
    "heatmap = np.float32(heatmap) / 255\n",
    "cam_image = heatmap + img_np\n",
    "cam_image = cam_image / cam_image.max()\n",
    "\n",
    "# Save and display\n",
    "plt.imshow(cam_image)\n",
    "plt.axis('off')\n",
    "plt.title(f'Grad-CAM for Class {target_class}')\n",
    "plt.savefig('./CAM/correct_1/grad_cam_output.png', bbox_inches='tight', pad_inches=0)\n",
    "plt.savefig('./CAM/correct_1/grad_cam_output.pdf', bbox_inches='tight', pad_inches=0)\n",
    "plt.show()"
   ]
  },
  {
   "cell_type": "markdown",
   "id": "2cd0a9bc-47c8-4526-b2ab-39f36e8fe685",
   "metadata": {},
   "source": [
    "##### grad-cam++"
   ]
  },
  {
   "cell_type": "code",
   "execution_count": 445,
   "id": "82eb6ef6-c91e-451a-a937-15494a618f81",
   "metadata": {},
   "outputs": [
    {
     "data": {
      "image/png": "[encoded data removed]",
      "text/plain": [
       "<Figure size 640x480 with 1 Axes>"
      ]
     },
     "metadata": {},
     "output_type": "display_data"
    }
   ],
   "source": [
    "from pytorch_grad_cam import GradCAMPlusPlus  # Use Grad-CAM++\n",
    "from pytorch_grad_cam.utils.image import show_cam_on_image\n",
    "from pytorch_grad_cam.utils.model_targets import ClassifierOutputTarget\n",
    "import matplotlib.pyplot as plt\n",
    "import numpy as np\n",
    "import cv2\n",
    "\n",
    "model = model.to(\"cpu\")\n",
    "\n",
    "loaded_test_dataset = DataLoader(test_dataset, batch_size=1, shuffle=False)\n",
    "\n",
    "target_layers = [model.conv_block1]  # Replace with the layer of interest\n",
    "\n",
    "with torch.set_grad_enabled(False):\n",
    "    for batch_indx, (inputs, labels) in enumerate(loaded_test_dataset):\n",
    "        if batch_indx == 266:  # Replace with the desired image index\n",
    "            img_tensor = inputs\n",
    "            img_np = inputs.squeeze(0).permute(1, 2, 0).numpy()\n",
    "            img_np = img_np / img_np.max()  # Normalize to [0, 1]\n",
    "\n",
    "# Apply Grad-CAM++\n",
    "cam = GradCAMPlusPlus(model=model, target_layers=target_layers)  # Use Grad-CAM++\n",
    "\n",
    "# Set the target class\n",
    "preds = model(img_tensor)  # Get predictions\n",
    "target_class = int(torch.argmax(preds).item())  # Or use `labels.item()`\n",
    "targets = [ClassifierOutputTarget(target_class)]\n",
    "\n",
    "# Generate the CAM\n",
    "grayscale_cam = cam(input_tensor=img_tensor, targets=targets)\n",
    "grayscale_cam = grayscale_cam[0, :]  # For single image\n",
    "\n",
    "# Convert CAM to heatmap and overlay it on the image\n",
    "heatmap = cv2.applyColorMap(np.uint8(255 * grayscale_cam), cv2.COLORMAP_JET)\n",
    "heatmap = np.float32(heatmap) / 255\n",
    "cam_image = heatmap + img_np\n",
    "cam_image = cam_image / cam_image.max()\n",
    "\n",
    "# Save and display\n",
    "plt.imshow(cam_image)\n",
    "plt.axis('off')\n",
    "plt.title(f'Grad-CAM++ for Class {target_class}')\n",
    "plt.savefig('./CAM/correct_1/grad_cam_plus_plus_output.png', bbox_inches='tight', pad_inches=0)\n",
    "plt.savefig('./CAM/correct_1/grad_cam_plus_plus_output.pdf', bbox_inches='tight', pad_inches=0)\n",
    "plt.show()"
   ]
  },
  {
   "cell_type": "markdown",
   "id": "20595608-1268-44cd-9301-476375b7acc8",
   "metadata": {},
   "source": [
    "##### layer-cam"
   ]
  },
  {
   "cell_type": "code",
   "execution_count": 446,
   "id": "aa5e7cfb-a56a-4ba6-856b-92f2ae25006b",
   "metadata": {},
   "outputs": [
    {
     "data": {
      "image/png": "[encoded data removed]",
      "text/plain": [
       "<Figure size 640x480 with 1 Axes>"
      ]
     },
     "metadata": {},
     "output_type": "display_data"
    }
   ],
   "source": [
    "from pytorch_grad_cam import LayerCAM  # Import Layer-CAM\n",
    "from pytorch_grad_cam.utils.image import show_cam_on_image\n",
    "from pytorch_grad_cam.utils.model_targets import ClassifierOutputTarget\n",
    "import matplotlib.pyplot as plt\n",
    "import numpy as np\n",
    "import cv2\n",
    "\n",
    "model = model.to(\"cpu\")\n",
    "\n",
    "loaded_test_dataset = DataLoader(test_dataset, batch_size=1, shuffle=False)\n",
    "\n",
    "target_layers = [model.conv_block1]  # Replace with the desired layer\n",
    "\n",
    "with torch.set_grad_enabled(False):\n",
    "    for batch_indx, (inputs, labels) in enumerate(loaded_test_dataset):\n",
    "        if batch_indx == 266:  # Replace with the desired image index\n",
    "            img_tensor = inputs\n",
    "            img_np = inputs.squeeze(0).permute(1, 2, 0).numpy()\n",
    "            img_np = img_np / img_np.max()  # Normalize to [0, 1]\n",
    "\n",
    "# Apply Layer-CAM\n",
    "cam = LayerCAM(model=model, target_layers=target_layers)  # Use Layer-CAM\n",
    "\n",
    "# Set the target class\n",
    "preds = model(img_tensor)  # Get predictions\n",
    "target_class = int(torch.argmax(preds).item())  # Or use `labels.item()`\n",
    "targets = [ClassifierOutputTarget(target_class)]\n",
    "\n",
    "# Generate the CAM\n",
    "grayscale_cam = cam(input_tensor=img_tensor, targets=targets)\n",
    "grayscale_cam = grayscale_cam[0, :]  # For single image\n",
    "\n",
    "# Convert CAM to heatmap and overlay it on the image\n",
    "heatmap = cv2.applyColorMap(np.uint8(255 * grayscale_cam), cv2.COLORMAP_JET)\n",
    "heatmap = np.float32(heatmap) / 255\n",
    "cam_image = heatmap + img_np\n",
    "cam_image = cam_image / cam_image.max()\n",
    "\n",
    "# Save and display\n",
    "plt.imshow(cam_image)\n",
    "plt.axis('off')\n",
    "plt.title(f'Layer-CAM for Class {target_class}')\n",
    "plt.savefig('./CAM/correct_1/layer_cam_output.png', bbox_inches='tight', pad_inches=0)\n",
    "plt.savefig('./CAM/correct_1/layer_cam_output.pdf', bbox_inches='tight', pad_inches=0)\n",
    "plt.show()"
   ]
  },
  {
   "cell_type": "markdown",
   "id": "fa75f9d0-a968-4558-8294-ed35121ec964",
   "metadata": {},
   "source": [
    "##### score-cam"
   ]
  },
  {
   "cell_type": "code",
   "execution_count": 447,
   "id": "146073c6-4f4d-4c1e-a3fe-731b18295bc8",
   "metadata": {},
   "outputs": [
    {
     "name": "stderr",
     "output_type": "stream",
     "text": [
      "100%|██████████| 2/2 [00:00<00:00, 296.60it/s]\n"
     ]
    },
    {
     "data": {
      "image/png": "[encoded data removed]",
      "text/plain": [
       "<Figure size 640x480 with 1 Axes>"
      ]
     },
     "metadata": {},
     "output_type": "display_data"
    }
   ],
   "source": [
    "from pytorch_grad_cam import ScoreCAM  # Import Score-CAM\n",
    "from pytorch_grad_cam.utils.image import show_cam_on_image\n",
    "from pytorch_grad_cam.utils.model_targets import ClassifierOutputTarget\n",
    "import matplotlib.pyplot as plt\n",
    "import numpy as np\n",
    "import cv2\n",
    "\n",
    "model = model.to(\"cpu\")\n",
    "\n",
    "loaded_test_dataset = DataLoader(test_dataset, batch_size=1, shuffle=False)\n",
    "\n",
    "target_layers = [model.conv_block1]  # Replace with the desired layer\n",
    "\n",
    "with torch.set_grad_enabled(False):\n",
    "    for batch_indx, (inputs, labels) in enumerate(loaded_test_dataset):\n",
    "        if batch_indx == 266:  # Replace with the desired image index\n",
    "            img_tensor = inputs\n",
    "            img_np = inputs.squeeze(0).permute(1, 2, 0).numpy()\n",
    "            img_np = img_np / img_np.max()  # Normalize to [0, 1]\n",
    "\n",
    "# Apply Score-CAM\n",
    "cam = ScoreCAM(model=model, target_layers=target_layers)  # Use Score-CAM\n",
    "\n",
    "# Set the target class\n",
    "preds = model(img_tensor)  # Get predictions\n",
    "target_class = int(torch.argmax(preds).item())  # Or use `labels.item()`\n",
    "targets = [ClassifierOutputTarget(target_class)]\n",
    "\n",
    "# Generate the CAM\n",
    "grayscale_cam = cam(input_tensor=img_tensor, targets=targets)\n",
    "grayscale_cam = grayscale_cam[0, :]  # For single image\n",
    "\n",
    "# Convert CAM to heatmap and overlay it on the image\n",
    "heatmap = cv2.applyColorMap(np.uint8(255 * grayscale_cam), cv2.COLORMAP_JET)\n",
    "heatmap = np.float32(heatmap) / 255\n",
    "cam_image = heatmap + img_np\n",
    "cam_image = cam_image / cam_image.max()\n",
    "\n",
    "# Save and display\n",
    "plt.imshow(cam_image)\n",
    "plt.axis('off')\n",
    "plt.title(f'Score-CAM for Class {target_class}')\n",
    "plt.savefig('./CAM/correct_1/score_cam_output.png', bbox_inches='tight', pad_inches=0)\n",
    "plt.savefig('./CAM/correct_1/score_cam_output.pdf', bbox_inches='tight', pad_inches=0)\n",
    "plt.show()"
   ]
  },
  {
   "cell_type": "code",
   "execution_count": null,
   "id": "90b124ca-7def-4c8d-94b7-0fb9d2a8045e",
   "metadata": {},
   "outputs": [],
   "source": []
  },
  {
   "cell_type": "code",
   "execution_count": null,
   "id": "af081436-ceb1-41c2-b00f-6949dc156632",
   "metadata": {},
   "outputs": [],
   "source": []
  },
  {
   "cell_type": "markdown",
   "id": "584091de-6717-497a-b817-ce30cdd5beac",
   "metadata": {},
   "source": [
    "##### second image"
   ]
  },
  {
   "cell_type": "code",
   "execution_count": 474,
   "id": "c3c0b83a-d238-4746-bab9-6013ba75af8c",
   "metadata": {},
   "outputs": [],
   "source": [
    "correct_indices = [i for i, (p, t) in enumerate(zip(predicted_labels, true_labels_)) if p == t]\n",
    "selected_correct_indices = correct_indices[62:63]\n",
    "correct_probs = [preds[i][predicted_labels[i]].item() for i in selected_correct_indices]"
   ]
  },
  {
   "cell_type": "code",
   "execution_count": 475,
   "id": "df91b696-0c85-4877-abe4-ade5ebae8604",
   "metadata": {},
   "outputs": [
    {
     "name": "stdout",
     "output_type": "stream",
     "text": [
      "selected_correct_indices: [63]\n",
      "correct_probs: [0.9747083187103271]\n"
     ]
    }
   ],
   "source": [
    "print(f\"selected_correct_indices: {selected_correct_indices}\")\n",
    "print(f\"correct_probs: {correct_probs}\")"
   ]
  },
  {
   "cell_type": "code",
   "execution_count": 477,
   "id": "f91600f7-c624-47f3-9b7b-4732923cfe4a",
   "metadata": {},
   "outputs": [
    {
     "data": {
      "image/png": "[encoded data removed]",
      "text/plain": [
       "<Figure size 640x480 with 1 Axes>"
      ]
     },
     "metadata": {},
     "output_type": "display_data"
    }
   ],
   "source": [
    "import matplotlib.pyplot as plt\n",
    "\n",
    "loaded_test_dataset = DataLoader(test_dataset, batch_size = 1, shuffle = False)\n",
    "\n",
    "with torch.set_grad_enabled(False):\n",
    "    for batch_indx, (inputs, labels) in enumerate(loaded_test_dataset):\n",
    "        if batch_indx == 63:\n",
    "            img = inputs\n",
    "            label = int(labels.argmax(dim=-1).item())\n",
    "\n",
    "img = img.squeeze(0).numpy().transpose((1, 2, 0))\n",
    "#img = 1-img\n",
    "\n",
    "fig, ax = plt.subplots()\n",
    "ax.imshow(img)\n",
    "ax.axis('off')\n",
    "ax.set_title(f'Prob: {correct_probs[0]:.4f}', fontsize=12, loc='left')\n",
    "ax.set_title(f'Label: {label}', fontsize=12, loc='right')\n",
    "plt.savefig('./CAM/correct_2/correct_2.png', bbox_inches='tight', pad_inches=0)\n",
    "plt.savefig('./CAM/correct_2/correct_2.pdf', bbox_inches='tight', pad_inches=0)\n",
    "plt.show()"
   ]
  },
  {
   "cell_type": "markdown",
   "id": "6cc7fa7b-47e2-4336-90e1-9db998812986",
   "metadata": {},
   "source": [
    "##### grad-cam"
   ]
  },
  {
   "cell_type": "code",
   "execution_count": 478,
   "id": "7857fc41-0dcd-4f21-82b1-aebdeae99efb",
   "metadata": {},
   "outputs": [
    {
     "data": {
      "image/png": "[encoded data removed]",
      "text/plain": [
       "<Figure size 640x480 with 1 Axes>"
      ]
     },
     "metadata": {},
     "output_type": "display_data"
    }
   ],
   "source": [
    "from pytorch_grad_cam import GradCAM\n",
    "from pytorch_grad_cam.utils.image import show_cam_on_image\n",
    "from pytorch_grad_cam.utils.model_targets import ClassifierOutputTarget\n",
    "import matplotlib.pyplot as plt\n",
    "import numpy as np\n",
    "import cv2\n",
    "\n",
    "model = model.to(\"cpu\")\n",
    "\n",
    "loaded_test_dataset = DataLoader(test_dataset, batch_size=1, shuffle=False)\n",
    "\n",
    "target_layers = [model.conv_block1]\n",
    "\n",
    "with torch.set_grad_enabled(False):\n",
    "    for batch_indx, (inputs, labels) in enumerate(loaded_test_dataset):\n",
    "        if batch_indx == 63:  # Replace with the desired image index\n",
    "            img_tensor = inputs\n",
    "            img_np = inputs.squeeze(0).permute(1, 2, 0).numpy()\n",
    "            img_np = img_np / img_np.max()  # Normalize to [0, 1]\n",
    "\n",
    "# Apply Grad-CAM\n",
    "cam = GradCAM(model=model, target_layers=target_layers)\n",
    "\n",
    "# Set the target class\n",
    "preds = model(img_tensor)  # Get predictions\n",
    "target_class = int(torch.argmax(preds).item())  # Or use `labels.item()`\n",
    "targets = [ClassifierOutputTarget(target_class)]\n",
    "\n",
    "# Generate the CAM\n",
    "grayscale_cam = cam(input_tensor=img_tensor, targets=targets)\n",
    "grayscale_cam = grayscale_cam[0, :]  # For single image\n",
    "\n",
    "# Convert CAM to heatmap and overlay it on the image\n",
    "heatmap = cv2.applyColorMap(np.uint8(255 * grayscale_cam), cv2.COLORMAP_JET)\n",
    "heatmap = np.float32(heatmap) / 255\n",
    "cam_image = heatmap + img_np\n",
    "cam_image = cam_image / cam_image.max()\n",
    "\n",
    "# Save and display\n",
    "plt.imshow(cam_image)\n",
    "plt.axis('off')\n",
    "plt.title(f'Grad-CAM for Class {target_class}')\n",
    "plt.savefig('./CAM/correct_2/grad_cam_output.png', bbox_inches='tight', pad_inches=0)\n",
    "plt.savefig('./CAM/correct_2/grad_cam_output.pdf', bbox_inches='tight', pad_inches=0)\n",
    "plt.show()"
   ]
  },
  {
   "cell_type": "markdown",
   "id": "a2b9637a-502e-41ff-ad39-169df6b3f405",
   "metadata": {},
   "source": [
    "##### grad-cam++"
   ]
  },
  {
   "cell_type": "code",
   "execution_count": 479,
   "id": "ffcc5381-e10c-4609-b0b0-85fb54fe7e5e",
   "metadata": {},
   "outputs": [
    {
     "data": {
      "image/png": "[encoded data removed]",
      "text/plain": [
       "<Figure size 640x480 with 1 Axes>"
      ]
     },
     "metadata": {},
     "output_type": "display_data"
    }
   ],
   "source": [
    "from pytorch_grad_cam import GradCAMPlusPlus  # Use Grad-CAM++\n",
    "from pytorch_grad_cam.utils.image import show_cam_on_image\n",
    "from pytorch_grad_cam.utils.model_targets import ClassifierOutputTarget\n",
    "import matplotlib.pyplot as plt\n",
    "import numpy as np\n",
    "import cv2\n",
    "\n",
    "model = model.to(\"cpu\")\n",
    "\n",
    "loaded_test_dataset = DataLoader(test_dataset, batch_size=1, shuffle=False)\n",
    "\n",
    "target_layers = [model.conv_block1]  # Replace with the layer of interest\n",
    "\n",
    "with torch.set_grad_enabled(False):\n",
    "    for batch_indx, (inputs, labels) in enumerate(loaded_test_dataset):\n",
    "        if batch_indx == 63:  # Replace with the desired image index\n",
    "            img_tensor = inputs\n",
    "            img_np = inputs.squeeze(0).permute(1, 2, 0).numpy()\n",
    "            img_np = img_np / img_np.max()  # Normalize to [0, 1]\n",
    "\n",
    "# Apply Grad-CAM++\n",
    "cam = GradCAMPlusPlus(model=model, target_layers=target_layers)  # Use Grad-CAM++\n",
    "\n",
    "# Set the target class\n",
    "preds = model(img_tensor)  # Get predictions\n",
    "target_class = int(torch.argmax(preds).item())  # Or use `labels.item()`\n",
    "targets = [ClassifierOutputTarget(target_class)]\n",
    "\n",
    "# Generate the CAM\n",
    "grayscale_cam = cam(input_tensor=img_tensor, targets=targets)\n",
    "grayscale_cam = grayscale_cam[0, :]  # For single image\n",
    "\n",
    "# Convert CAM to heatmap and overlay it on the image\n",
    "heatmap = cv2.applyColorMap(np.uint8(255 * grayscale_cam), cv2.COLORMAP_JET)\n",
    "heatmap = np.float32(heatmap) / 255\n",
    "cam_image = heatmap + img_np\n",
    "cam_image = cam_image / cam_image.max()\n",
    "\n",
    "# Save and display\n",
    "plt.imshow(cam_image)\n",
    "plt.axis('off')\n",
    "plt.title(f'Grad-CAM++ for Class {target_class}')\n",
    "plt.savefig('./CAM/correct_2/grad_cam_plus_plus_output.png', bbox_inches='tight', pad_inches=0)\n",
    "plt.savefig('./CAM/correct_2/grad_cam_plus_plus_output.pdf', bbox_inches='tight', pad_inches=0)\n",
    "plt.show()"
   ]
  },
  {
   "cell_type": "markdown",
   "id": "49351b71-a914-40a1-a572-307763842da6",
   "metadata": {},
   "source": [
    "##### layer-cam"
   ]
  },
  {
   "cell_type": "code",
   "execution_count": 480,
   "id": "9e21214c-ec7f-413e-998b-b388859c9013",
   "metadata": {},
   "outputs": [
    {
     "data": {
      "image/png": "[encoded data removed]",
      "text/plain": [
       "<Figure size 640x480 with 1 Axes>"
      ]
     },
     "metadata": {},
     "output_type": "display_data"
    }
   ],
   "source": [
    "from pytorch_grad_cam import LayerCAM  # Import Layer-CAM\n",
    "from pytorch_grad_cam.utils.image import show_cam_on_image\n",
    "from pytorch_grad_cam.utils.model_targets import ClassifierOutputTarget\n",
    "import matplotlib.pyplot as plt\n",
    "import numpy as np\n",
    "import cv2\n",
    "\n",
    "model = model.to(\"cpu\")\n",
    "\n",
    "loaded_test_dataset = DataLoader(test_dataset, batch_size=1, shuffle=False)\n",
    "\n",
    "target_layers = [model.conv_block1]  # Replace with the desired layer\n",
    "\n",
    "with torch.set_grad_enabled(False):\n",
    "    for batch_indx, (inputs, labels) in enumerate(loaded_test_dataset):\n",
    "        if batch_indx == 63:  # Replace with the desired image index\n",
    "            img_tensor = inputs\n",
    "            img_np = inputs.squeeze(0).permute(1, 2, 0).numpy()\n",
    "            img_np = img_np / img_np.max()  # Normalize to [0, 1]\n",
    "\n",
    "# Apply Layer-CAM\n",
    "cam = LayerCAM(model=model, target_layers=target_layers)  # Use Layer-CAM\n",
    "\n",
    "# Set the target class\n",
    "preds = model(img_tensor)  # Get predictions\n",
    "target_class = int(torch.argmax(preds).item())  # Or use `labels.item()`\n",
    "targets = [ClassifierOutputTarget(target_class)]\n",
    "\n",
    "# Generate the CAM\n",
    "grayscale_cam = cam(input_tensor=img_tensor, targets=targets)\n",
    "grayscale_cam = grayscale_cam[0, :]  # For single image\n",
    "\n",
    "# Convert CAM to heatmap and overlay it on the image\n",
    "heatmap = cv2.applyColorMap(np.uint8(255 * grayscale_cam), cv2.COLORMAP_JET)\n",
    "heatmap = np.float32(heatmap) / 255\n",
    "cam_image = heatmap + img_np\n",
    "cam_image = cam_image / cam_image.max()\n",
    "\n",
    "# Save and display\n",
    "plt.imshow(cam_image)\n",
    "plt.axis('off')\n",
    "plt.title(f'Layer-CAM for Class {target_class}')\n",
    "plt.savefig('./CAM/correct_2/layer_cam_output.png', bbox_inches='tight', pad_inches=0)\n",
    "plt.savefig('./CAM/correct_2/layer_cam_output.pdf', bbox_inches='tight', pad_inches=0)\n",
    "plt.show()"
   ]
  },
  {
   "cell_type": "markdown",
   "id": "63336e2e-0fed-43c8-a641-9c0214f38034",
   "metadata": {},
   "source": [
    "##### score-cam"
   ]
  },
  {
   "cell_type": "code",
   "execution_count": 481,
   "id": "79c67e8a-0eb1-444b-a59a-9ab5b4297794",
   "metadata": {},
   "outputs": [
    {
     "name": "stderr",
     "output_type": "stream",
     "text": [
      "100%|██████████| 2/2 [00:00<00:00, 363.79it/s]\n"
     ]
    },
    {
     "data": {
      "image/png": "[encoded data removed]",
      "text/plain": [
       "<Figure size 640x480 with 1 Axes>"
      ]
     },
     "metadata": {},
     "output_type": "display_data"
    }
   ],
   "source": [
    "from pytorch_grad_cam import ScoreCAM  # Import Score-CAM\n",
    "from pytorch_grad_cam.utils.image import show_cam_on_image\n",
    "from pytorch_grad_cam.utils.model_targets import ClassifierOutputTarget\n",
    "import matplotlib.pyplot as plt\n",
    "import numpy as np\n",
    "import cv2\n",
    "\n",
    "model = model.to(\"cpu\")\n",
    "\n",
    "loaded_test_dataset = DataLoader(test_dataset, batch_size=1, shuffle=False)\n",
    "\n",
    "target_layers = [model.conv_block1]  # Replace with the desired layer\n",
    "\n",
    "with torch.set_grad_enabled(False):\n",
    "    for batch_indx, (inputs, labels) in enumerate(loaded_test_dataset):\n",
    "        if batch_indx == 63:  # Replace with the desired image index\n",
    "            img_tensor = inputs\n",
    "            img_np = inputs.squeeze(0).permute(1, 2, 0).numpy()\n",
    "            img_np = img_np / img_np.max()  # Normalize to [0, 1]\n",
    "\n",
    "# Apply Score-CAM\n",
    "cam = ScoreCAM(model=model, target_layers=target_layers)  # Use Score-CAM\n",
    "\n",
    "# Set the target class\n",
    "preds = model(img_tensor)  # Get predictions\n",
    "target_class = int(torch.argmax(preds).item())  # Or use `labels.item()`\n",
    "targets = [ClassifierOutputTarget(target_class)]\n",
    "\n",
    "# Generate the CAM\n",
    "grayscale_cam = cam(input_tensor=img_tensor, targets=targets)\n",
    "grayscale_cam = grayscale_cam[0, :]  # For single image\n",
    "\n",
    "# Convert CAM to heatmap and overlay it on the image\n",
    "heatmap = cv2.applyColorMap(np.uint8(255 * grayscale_cam), cv2.COLORMAP_JET)\n",
    "heatmap = np.float32(heatmap) / 255\n",
    "cam_image = heatmap + img_np\n",
    "cam_image = cam_image / cam_image.max()\n",
    "\n",
    "# Save and display\n",
    "plt.imshow(cam_image)\n",
    "plt.axis('off')\n",
    "plt.title(f'Score-CAM for Class {target_class}')\n",
    "plt.savefig('./CAM/correct_2/score_cam_output.png', bbox_inches='tight', pad_inches=0)\n",
    "plt.savefig('./CAM/correct_2/score_cam_output.pdf', bbox_inches='tight', pad_inches=0)\n",
    "plt.show()"
   ]
  },
  {
   "cell_type": "code",
   "execution_count": null,
   "id": "3c30c550-66fe-4536-8e00-3f9d97be709c",
   "metadata": {},
   "outputs": [],
   "source": []
  },
  {
   "cell_type": "code",
   "execution_count": null,
   "id": "17119dce-4c03-4a3c-b7df-70d4eadef350",
   "metadata": {},
   "outputs": [],
   "source": []
  },
  {
   "cell_type": "markdown",
   "id": "94e1cb29-fb24-4eba-8714-5e7bbab8f6d0",
   "metadata": {},
   "source": [
    "##### third image"
   ]
  },
  {
   "cell_type": "code",
   "execution_count": 652,
   "id": "83e05768-7362-4fcb-baea-eed93e8d6825",
   "metadata": {},
   "outputs": [],
   "source": [
    "wrong_indices = [i for i, (p, t) in enumerate(zip(predicted_labels, true_labels_)) if p != t]\n",
    "selected_wrong_indices = wrong_indices[45:46]\n",
    "wrong_probs = [preds[i][predicted_labels[i]].item() for i in selected_wrong_indices]"
   ]
  },
  {
   "cell_type": "code",
   "execution_count": 653,
   "id": "95ea8b13-7015-41a5-a6ee-09154caa17bf",
   "metadata": {},
   "outputs": [
    {
     "name": "stdout",
     "output_type": "stream",
     "text": [
      "selected_wrong_indices: [1901]\n",
      "wrong_probs: [0.7431603670120239]\n"
     ]
    }
   ],
   "source": [
    "print(f\"selected_wrong_indices: {selected_wrong_indices}\")\n",
    "print(f\"wrong_probs: {wrong_probs}\")"
   ]
  },
  {
   "cell_type": "code",
   "execution_count": 654,
   "id": "6b3e4aad-e5a0-41a0-83f5-a83aad74a14b",
   "metadata": {},
   "outputs": [
    {
     "data": {
      "image/png": "[encoded data removed]",
      "text/plain": [
       "<Figure size 640x480 with 1 Axes>"
      ]
     },
     "metadata": {},
     "output_type": "display_data"
    }
   ],
   "source": [
    "import matplotlib.pyplot as plt\n",
    "\n",
    "loaded_test_dataset = DataLoader(test_dataset, batch_size = 1, shuffle = False)\n",
    "\n",
    "with torch.set_grad_enabled(False):\n",
    "    for batch_indx, (inputs, labels) in enumerate(loaded_test_dataset):\n",
    "        if batch_indx == 2118:\n",
    "            img = inputs\n",
    "            label = int(labels.argmax(dim=-1).item())\n",
    "\n",
    "img = img.squeeze(0).numpy().transpose((1, 2, 0))\n",
    "#img = 1-img\n",
    "\n",
    "fig, ax = plt.subplots()\n",
    "ax.imshow(img)\n",
    "ax.axis('off')\n",
    "ax.set_title(f'Prob: {wrong_probs[0]:.4f}', fontsize=12, loc='left')\n",
    "ax.set_title(f'Label: {label}', fontsize=12, loc='right')\n",
    "plt.savefig('./CAM/wrong_1/wrong_1.pdf', bbox_inches='tight', pad_inches=0)\n",
    "plt.savefig('./CAM/wrong_1/wrong_1.png', bbox_inches='tight', pad_inches=0)\n",
    "plt.show()"
   ]
  },
  {
   "cell_type": "markdown",
   "id": "2b0b39c4-bacc-4d33-baa5-950435d9a14b",
   "metadata": {},
   "source": [
    "##### grad-cam"
   ]
  },
  {
   "cell_type": "code",
   "execution_count": 655,
   "id": "d0e348c0-0a6b-428a-8907-a5dd4468d80b",
   "metadata": {},
   "outputs": [
    {
     "data": {
      "image/png": "[encoded data removed]",
      "text/plain": [
       "<Figure size 640x480 with 1 Axes>"
      ]
     },
     "metadata": {},
     "output_type": "display_data"
    }
   ],
   "source": [
    "from pytorch_grad_cam import GradCAM\n",
    "from pytorch_grad_cam.utils.image import show_cam_on_image\n",
    "from pytorch_grad_cam.utils.model_targets import ClassifierOutputTarget\n",
    "import matplotlib.pyplot as plt\n",
    "import numpy as np\n",
    "import cv2\n",
    "\n",
    "model = model.to(\"cpu\")\n",
    "\n",
    "loaded_test_dataset = DataLoader(test_dataset, batch_size=1, shuffle=False)\n",
    "\n",
    "target_layers = [model.conv_block1]\n",
    "\n",
    "with torch.set_grad_enabled(False):\n",
    "    for batch_indx, (inputs, labels) in enumerate(loaded_test_dataset):\n",
    "        if batch_indx == 2118:  # Replace with the desired image index\n",
    "            img_tensor = inputs\n",
    "            img_np = inputs.squeeze(0).permute(1, 2, 0).numpy()\n",
    "            img_np = img_np / img_np.max()  # Normalize to [0, 1]\n",
    "\n",
    "# Apply Grad-CAM\n",
    "cam = GradCAM(model=model, target_layers=target_layers)\n",
    "\n",
    "# Set the target class\n",
    "preds = model(img_tensor)  # Get predictions\n",
    "target_class = int(torch.argmax(preds).item())  # Or use `labels.item()`\n",
    "targets = [ClassifierOutputTarget(target_class)]\n",
    "\n",
    "# Generate the CAM\n",
    "grayscale_cam = cam(input_tensor=img_tensor, targets=targets)\n",
    "grayscale_cam = grayscale_cam[0, :]  # For single image\n",
    "\n",
    "# Convert CAM to heatmap and overlay it on the image\n",
    "heatmap = cv2.applyColorMap(np.uint8(255 * grayscale_cam), cv2.COLORMAP_JET)\n",
    "heatmap = np.float32(heatmap) / 255\n",
    "cam_image = heatmap + img_np\n",
    "cam_image = cam_image / cam_image.max()\n",
    "\n",
    "# Save and display\n",
    "plt.imshow(cam_image)\n",
    "plt.axis('off')\n",
    "plt.title(f'Grad-CAM for Class {target_class}')\n",
    "plt.savefig('./CAM/wrong_1/grad_cam_output.png', bbox_inches='tight', pad_inches=0)\n",
    "plt.savefig('./CAM/wrong_1/grad_cam_output.pdf', bbox_inches='tight', pad_inches=0)\n",
    "plt.show()"
   ]
  },
  {
   "cell_type": "markdown",
   "id": "b580ac77-3bc5-436c-bb17-d30911e2af38",
   "metadata": {},
   "source": [
    "##### grad-cam++"
   ]
  },
  {
   "cell_type": "code",
   "execution_count": 656,
   "id": "ca3e4652-6d99-4d09-9f13-187694a5a15b",
   "metadata": {},
   "outputs": [
    {
     "data": {
      "image/png": "[encoded data removed]",
      "text/plain": [
       "<Figure size 640x480 with 1 Axes>"
      ]
     },
     "metadata": {},
     "output_type": "display_data"
    }
   ],
   "source": [
    "from pytorch_grad_cam import GradCAMPlusPlus  # Use Grad-CAM++\n",
    "from pytorch_grad_cam.utils.image import show_cam_on_image\n",
    "from pytorch_grad_cam.utils.model_targets import ClassifierOutputTarget\n",
    "import matplotlib.pyplot as plt\n",
    "import numpy as np\n",
    "import cv2\n",
    "\n",
    "model = model.to(\"cpu\")\n",
    "\n",
    "loaded_test_dataset = DataLoader(test_dataset, batch_size=1, shuffle=False)\n",
    "\n",
    "target_layers = [model.conv_block1]  # Replace with the layer of interest\n",
    "\n",
    "with torch.set_grad_enabled(False):\n",
    "    for batch_indx, (inputs, labels) in enumerate(loaded_test_dataset):\n",
    "        if batch_indx == 2118:  # Replace with the desired image index\n",
    "            img_tensor = inputs\n",
    "            img_np = inputs.squeeze(0).permute(1, 2, 0).numpy()\n",
    "            img_np = img_np / img_np.max()  # Normalize to [0, 1]\n",
    "\n",
    "# Apply Grad-CAM++\n",
    "cam = GradCAMPlusPlus(model=model, target_layers=target_layers)  # Use Grad-CAM++\n",
    "\n",
    "# Set the target class\n",
    "preds = model(img_tensor)  # Get predictions\n",
    "target_class = int(torch.argmax(preds).item())  # Or use `labels.item()`\n",
    "targets = [ClassifierOutputTarget(target_class)]\n",
    "\n",
    "# Generate the CAM\n",
    "grayscale_cam = cam(input_tensor=img_tensor, targets=targets)\n",
    "grayscale_cam = grayscale_cam[0, :]  # For single image\n",
    "\n",
    "# Convert CAM to heatmap and overlay it on the image\n",
    "heatmap = cv2.applyColorMap(np.uint8(255 * grayscale_cam), cv2.COLORMAP_JET)\n",
    "heatmap = np.float32(heatmap) / 255\n",
    "cam_image = heatmap + img_np\n",
    "cam_image = cam_image / cam_image.max()\n",
    "\n",
    "# Save and display\n",
    "plt.imshow(cam_image)\n",
    "plt.axis('off')\n",
    "plt.title(f'Grad-CAM++ for Class {target_class}')\n",
    "plt.savefig('./CAM/wrong_1/grad_cam_plus_plus_output.png', bbox_inches='tight', pad_inches=0)\n",
    "plt.savefig('./CAM/wrong_1/grad_cam_plus_plus_output.pdf', bbox_inches='tight', pad_inches=0)\n",
    "plt.show()"
   ]
  },
  {
   "cell_type": "markdown",
   "id": "8e71fb56-3faf-49a7-9505-7f24a77829d7",
   "metadata": {},
   "source": [
    "##### layer-cam"
   ]
  },
  {
   "cell_type": "code",
   "execution_count": 657,
   "id": "78a3fc79-9993-47c5-a491-b5c7ab0781ab",
   "metadata": {},
   "outputs": [
    {
     "data": {
      "image/png": "[encoded data removed]",
      "text/plain": [
       "<Figure size 640x480 with 1 Axes>"
      ]
     },
     "metadata": {},
     "output_type": "display_data"
    }
   ],
   "source": [
    "from pytorch_grad_cam import LayerCAM  # Import Layer-CAM\n",
    "from pytorch_grad_cam.utils.image import show_cam_on_image\n",
    "from pytorch_grad_cam.utils.model_targets import ClassifierOutputTarget\n",
    "import matplotlib.pyplot as plt\n",
    "import numpy as np\n",
    "import cv2\n",
    "\n",
    "model = model.to(\"cpu\")\n",
    "\n",
    "loaded_test_dataset = DataLoader(test_dataset, batch_size=1, shuffle=False)\n",
    "\n",
    "target_layers = [model.conv_block1]  # Replace with the desired layer\n",
    "\n",
    "with torch.set_grad_enabled(False):\n",
    "    for batch_indx, (inputs, labels) in enumerate(loaded_test_dataset):\n",
    "        if batch_indx == 2118:  # Replace with the desired image index\n",
    "            img_tensor = inputs\n",
    "            img_np = inputs.squeeze(0).permute(1, 2, 0).numpy()\n",
    "            img_np = img_np / img_np.max()  # Normalize to [0, 1]\n",
    "\n",
    "# Apply Layer-CAM\n",
    "cam = LayerCAM(model=model, target_layers=target_layers)  # Use Layer-CAM\n",
    "\n",
    "# Set the target class\n",
    "preds = model(img_tensor)  # Get predictions\n",
    "target_class = int(torch.argmax(preds).item())  # Or use `labels.item()`\n",
    "targets = [ClassifierOutputTarget(target_class)]\n",
    "\n",
    "# Generate the CAM\n",
    "grayscale_cam = cam(input_tensor=img_tensor, targets=targets)\n",
    "grayscale_cam = grayscale_cam[0, :]  # For single image\n",
    "\n",
    "# Convert CAM to heatmap and overlay it on the image\n",
    "heatmap = cv2.applyColorMap(np.uint8(255 * grayscale_cam), cv2.COLORMAP_JET)\n",
    "heatmap = np.float32(heatmap) / 255\n",
    "cam_image = heatmap + img_np\n",
    "cam_image = cam_image / cam_image.max()\n",
    "\n",
    "# Save and display\n",
    "plt.imshow(cam_image)\n",
    "plt.axis('off')\n",
    "plt.title(f'Layer-CAM for Class {target_class}')\n",
    "plt.savefig('./CAM/wrong_1/layer_cam_output.png', bbox_inches='tight', pad_inches=0)\n",
    "plt.savefig('./CAM/wrong_1/layer_cam_output.pdf', bbox_inches='tight', pad_inches=0)\n",
    "plt.show()"
   ]
  },
  {
   "cell_type": "markdown",
   "id": "f004f1c2-c89e-413d-96b1-3ce2bea093ed",
   "metadata": {},
   "source": [
    "##### score-cam"
   ]
  },
  {
   "cell_type": "code",
   "execution_count": 658,
   "id": "6424c666-10f9-4ac3-b1da-38d4f2a2ff60",
   "metadata": {},
   "outputs": [
    {
     "name": "stderr",
     "output_type": "stream",
     "text": [
      "100%|██████████| 2/2 [00:00<00:00, 290.00it/s]\n"
     ]
    },
    {
     "data": {
      "image/png": "[encoded data removed]",
      "text/plain": [
       "<Figure size 640x480 with 1 Axes>"
      ]
     },
     "metadata": {},
     "output_type": "display_data"
    }
   ],
   "source": [
    "from pytorch_grad_cam import ScoreCAM  # Import Score-CAM\n",
    "from pytorch_grad_cam.utils.image import show_cam_on_image\n",
    "from pytorch_grad_cam.utils.model_targets import ClassifierOutputTarget\n",
    "import matplotlib.pyplot as plt\n",
    "import numpy as np\n",
    "import cv2\n",
    "\n",
    "model = model.to(\"cpu\")\n",
    "\n",
    "loaded_test_dataset = DataLoader(test_dataset, batch_size=1, shuffle=False)\n",
    "\n",
    "target_layers = [model.conv_block1]  # Replace with the desired layer\n",
    "\n",
    "with torch.set_grad_enabled(False):\n",
    "    for batch_indx, (inputs, labels) in enumerate(loaded_test_dataset):\n",
    "        if batch_indx == 2118:  # Replace with the desired image index\n",
    "            img_tensor = inputs\n",
    "            img_np = inputs.squeeze(0).permute(1, 2, 0).numpy()\n",
    "            img_np = img_np / img_np.max()  # Normalize to [0, 1]\n",
    "\n",
    "# Apply Score-CAM\n",
    "cam = ScoreCAM(model=model, target_layers=target_layers)  # Use Score-CAM\n",
    "\n",
    "# Set the target class\n",
    "preds = model(img_tensor)  # Get predictions\n",
    "target_class = int(torch.argmax(preds).item())  # Or use `labels.item()`\n",
    "targets = [ClassifierOutputTarget(target_class)]\n",
    "\n",
    "# Generate the CAM\n",
    "grayscale_cam = cam(input_tensor=img_tensor, targets=targets)\n",
    "grayscale_cam = grayscale_cam[0, :]  # For single image\n",
    "\n",
    "# Convert CAM to heatmap and overlay it on the image\n",
    "heatmap = cv2.applyColorMap(np.uint8(255 * grayscale_cam), cv2.COLORMAP_JET)\n",
    "heatmap = np.float32(heatmap) / 255\n",
    "cam_image = heatmap + img_np\n",
    "cam_image = cam_image / cam_image.max()\n",
    "\n",
    "# Save and display\n",
    "plt.imshow(cam_image)\n",
    "plt.axis('off')\n",
    "plt.title(f'Score-CAM for Class {target_class}')\n",
    "plt.savefig('./CAM/wrong_1/score_cam_output.png', bbox_inches='tight', pad_inches=0)\n",
    "plt.savefig('./CAM/wrong_1/score_cam_output.pdf', bbox_inches='tight', pad_inches=0)\n",
    "plt.show()"
   ]
  },
  {
   "cell_type": "code",
   "execution_count": null,
   "id": "9e722667-f80f-4a30-a1d8-c98db774f267",
   "metadata": {},
   "outputs": [],
   "source": []
  },
  {
   "cell_type": "markdown",
   "id": "0f8ea264-2dd2-4106-a809-b7809cca2d19",
   "metadata": {},
   "source": [
    "##### fourth image"
   ]
  },
  {
   "cell_type": "code",
   "execution_count": 565,
   "id": "08aa9152-5aba-4daa-a28a-de51d973c19c",
   "metadata": {},
   "outputs": [],
   "source": [
    "wrong_indices = [i for i, (p, t) in enumerate(zip(predicted_labels, true_labels_)) if p != t]\n",
    "selected_wrong_indices = wrong_indices[71:72]\n",
    "wrong_probs = [preds[i][predicted_labels[i]].item() for i in selected_wrong_indices]"
   ]
  },
  {
   "cell_type": "code",
   "execution_count": 566,
   "id": "acb04e2b-4807-4fd1-b360-0a9ce9111aa5",
   "metadata": {},
   "outputs": [
    {
     "name": "stdout",
     "output_type": "stream",
     "text": [
      "selected_wrong_indices: [3850]\n",
      "wrong_probs: [0.6083962917327881]\n"
     ]
    }
   ],
   "source": [
    "print(f\"selected_wrong_indices: {selected_wrong_indices}\")\n",
    "print(f\"wrong_probs: {wrong_probs}\")"
   ]
  },
  {
   "cell_type": "code",
   "execution_count": 567,
   "id": "bcfecbb2-f79f-4fdd-a694-945221de1842",
   "metadata": {},
   "outputs": [
    {
     "data": {
      "image/png": "[encoded data removed]",
      "text/plain": [
       "<Figure size 640x480 with 1 Axes>"
      ]
     },
     "metadata": {},
     "output_type": "display_data"
    }
   ],
   "source": [
    "import matplotlib.pyplot as plt\n",
    "\n",
    "loaded_test_dataset = DataLoader(test_dataset, batch_size = 1, shuffle = False)\n",
    "\n",
    "with torch.set_grad_enabled(False):\n",
    "    for batch_indx, (inputs, labels) in enumerate(loaded_test_dataset):\n",
    "        if batch_indx == 3850:\n",
    "            img = inputs\n",
    "            label = int(labels.argmax(dim=-1).item())\n",
    "\n",
    "img = img.squeeze(0).numpy().transpose((1, 2, 0))\n",
    "#img = 1-img\n",
    "\n",
    "fig, ax = plt.subplots()\n",
    "ax.imshow(img)\n",
    "ax.axis('off')\n",
    "ax.set_title(f'Prob: {wrong_probs[0]:.4f}', fontsize=12, loc='left')\n",
    "ax.set_title(f'Label: {label}', fontsize=12, loc='right')\n",
    "plt.savefig('./CAM/wrong_2/wrong_2.pdf', bbox_inches='tight', pad_inches=0)\n",
    "plt.savefig('./CAM/wrong_2/wrong_2.png', bbox_inches='tight', pad_inches=0)\n",
    "plt.show()"
   ]
  },
  {
   "cell_type": "markdown",
   "id": "f1b6564b-f3ca-4ac1-b903-30b45125318a",
   "metadata": {},
   "source": [
    "##### grad-cam"
   ]
  },
  {
   "cell_type": "code",
   "execution_count": 570,
   "id": "070f19b7-8b83-4944-9cff-6652157d93ec",
   "metadata": {},
   "outputs": [
    {
     "data": {
      "image/png": "[encoded data removed]",
      "text/plain": [
       "<Figure size 640x480 with 1 Axes>"
      ]
     },
     "metadata": {},
     "output_type": "display_data"
    }
   ],
   "source": [
    "from pytorch_grad_cam import GradCAM\n",
    "from pytorch_grad_cam.utils.image import show_cam_on_image\n",
    "from pytorch_grad_cam.utils.model_targets import ClassifierOutputTarget\n",
    "import matplotlib.pyplot as plt\n",
    "import numpy as np\n",
    "import cv2\n",
    "\n",
    "model = model.to(\"cpu\")\n",
    "\n",
    "loaded_test_dataset = DataLoader(test_dataset, batch_size=1, shuffle=False)\n",
    "\n",
    "target_layers = [model.conv_block1]\n",
    "\n",
    "with torch.set_grad_enabled(False):\n",
    "    for batch_indx, (inputs, labels) in enumerate(loaded_test_dataset):\n",
    "        if batch_indx == 3850:  # Replace with the desired image index\n",
    "            img_tensor = inputs\n",
    "            img_np = inputs.squeeze(0).permute(1, 2, 0).numpy()\n",
    "            img_np = img_np / img_np.max()  # Normalize to [0, 1]\n",
    "\n",
    "# Apply Grad-CAM\n",
    "cam = GradCAM(model=model, target_layers=target_layers)\n",
    "\n",
    "# Set the target class\n",
    "preds = model(img_tensor)  # Get predictions\n",
    "target_class = int(torch.argmax(preds).item())  # Or use `labels.item()`\n",
    "targets = [ClassifierOutputTarget(target_class)]\n",
    "\n",
    "# Generate the CAM\n",
    "grayscale_cam = cam(input_tensor=img_tensor, targets=targets)\n",
    "grayscale_cam = grayscale_cam[0, :]  # For single image\n",
    "\n",
    "# Convert CAM to heatmap and overlay it on the image\n",
    "heatmap = cv2.applyColorMap(np.uint8(255 * grayscale_cam), cv2.COLORMAP_JET)\n",
    "heatmap = np.float32(heatmap) / 255\n",
    "cam_image = heatmap + img_np\n",
    "cam_image = cam_image / cam_image.max()\n",
    "\n",
    "# Save and display\n",
    "plt.imshow(cam_image)\n",
    "plt.axis('off')\n",
    "plt.title(f'Grad-CAM for Class {target_class}')\n",
    "plt.savefig('./CAM/wrong_2/grad_cam_output.png', bbox_inches='tight', pad_inches=0)\n",
    "plt.savefig('./CAM/wrong_2/grad_cam_output.pdf', bbox_inches='tight', pad_inches=0)\n",
    "plt.show()"
   ]
  },
  {
   "cell_type": "markdown",
   "id": "67735f3d-3775-4e1e-bd40-08e043881757",
   "metadata": {},
   "source": [
    "##### grad-cam++"
   ]
  },
  {
   "cell_type": "code",
   "execution_count": 571,
   "id": "482cd1f2-c30a-4418-a4a5-5ca4036ffccd",
   "metadata": {},
   "outputs": [
    {
     "data": {
      "image/png": "[encoded data removed]",
      "text/plain": [
       "<Figure size 640x480 with 1 Axes>"
      ]
     },
     "metadata": {},
     "output_type": "display_data"
    }
   ],
   "source": [
    "from pytorch_grad_cam import GradCAMPlusPlus  # Use Grad-CAM++\n",
    "from pytorch_grad_cam.utils.image import show_cam_on_image\n",
    "from pytorch_grad_cam.utils.model_targets import ClassifierOutputTarget\n",
    "import matplotlib.pyplot as plt\n",
    "import numpy as np\n",
    "import cv2\n",
    "\n",
    "model = model.to(\"cpu\")\n",
    "\n",
    "loaded_test_dataset = DataLoader(test_dataset, batch_size=1, shuffle=False)\n",
    "\n",
    "target_layers = [model.conv_block1]  # Replace with the layer of interest\n",
    "\n",
    "with torch.set_grad_enabled(False):\n",
    "    for batch_indx, (inputs, labels) in enumerate(loaded_test_dataset):\n",
    "        if batch_indx == 3850:  # Replace with the desired image index\n",
    "            img_tensor = inputs\n",
    "            img_np = inputs.squeeze(0).permute(1, 2, 0).numpy()\n",
    "            img_np = img_np / img_np.max()  # Normalize to [0, 1]\n",
    "\n",
    "# Apply Grad-CAM++\n",
    "cam = GradCAMPlusPlus(model=model, target_layers=target_layers)  # Use Grad-CAM++\n",
    "\n",
    "# Set the target class\n",
    "preds = model(img_tensor)  # Get predictions\n",
    "target_class = int(torch.argmax(preds).item())  # Or use `labels.item()`\n",
    "targets = [ClassifierOutputTarget(target_class)]\n",
    "\n",
    "# Generate the CAM\n",
    "grayscale_cam = cam(input_tensor=img_tensor, targets=targets)\n",
    "grayscale_cam = grayscale_cam[0, :]  # For single image\n",
    "\n",
    "# Convert CAM to heatmap and overlay it on the image\n",
    "heatmap = cv2.applyColorMap(np.uint8(255 * grayscale_cam), cv2.COLORMAP_JET)\n",
    "heatmap = np.float32(heatmap) / 255\n",
    "cam_image = heatmap + img_np\n",
    "cam_image = cam_image / cam_image.max()\n",
    "\n",
    "# Save and display\n",
    "plt.imshow(cam_image)\n",
    "plt.axis('off')\n",
    "plt.title(f'Grad-CAM++ for Class {target_class}')\n",
    "plt.savefig('./CAM/wrong_2/grad_cam_plus_plus_output.png', bbox_inches='tight', pad_inches=0)\n",
    "plt.savefig('./CAM/wrong_2/grad_cam_plus_plus_output.pdf', bbox_inches='tight', pad_inches=0)\n",
    "plt.show()"
   ]
  },
  {
   "cell_type": "markdown",
   "id": "6017bd01-665d-4fbb-b0ee-1b463c65b7a3",
   "metadata": {},
   "source": [
    "##### layer-cam"
   ]
  },
  {
   "cell_type": "code",
   "execution_count": 572,
   "id": "2805c5be-eab9-455e-8964-ec611480f5ac",
   "metadata": {},
   "outputs": [
    {
     "data": {
      "image/png": "[encoded data removed]",
      "text/plain": [
       "<Figure size 640x480 with 1 Axes>"
      ]
     },
     "metadata": {},
     "output_type": "display_data"
    }
   ],
   "source": [
    "from pytorch_grad_cam import LayerCAM  # Import Layer-CAM\n",
    "from pytorch_grad_cam.utils.image import show_cam_on_image\n",
    "from pytorch_grad_cam.utils.model_targets import ClassifierOutputTarget\n",
    "import matplotlib.pyplot as plt\n",
    "import numpy as np\n",
    "import cv2\n",
    "\n",
    "model = model.to(\"cpu\")\n",
    "\n",
    "loaded_test_dataset = DataLoader(test_dataset, batch_size=1, shuffle=False)\n",
    "\n",
    "target_layers = [model.conv_block1]  # Replace with the desired layer\n",
    "\n",
    "with torch.set_grad_enabled(False):\n",
    "    for batch_indx, (inputs, labels) in enumerate(loaded_test_dataset):\n",
    "        if batch_indx == 3850:  # Replace with the desired image index\n",
    "            img_tensor = inputs\n",
    "            img_np = inputs.squeeze(0).permute(1, 2, 0).numpy()\n",
    "            img_np = img_np / img_np.max()  # Normalize to [0, 1]\n",
    "\n",
    "# Apply Layer-CAM\n",
    "cam = LayerCAM(model=model, target_layers=target_layers)  # Use Layer-CAM\n",
    "\n",
    "# Set the target class\n",
    "preds = model(img_tensor)  # Get predictions\n",
    "target_class = int(torch.argmax(preds).item())  # Or use `labels.item()`\n",
    "targets = [ClassifierOutputTarget(target_class)]\n",
    "\n",
    "# Generate the CAM\n",
    "grayscale_cam = cam(input_tensor=img_tensor, targets=targets)\n",
    "grayscale_cam = grayscale_cam[0, :]  # For single image\n",
    "\n",
    "# Convert CAM to heatmap and overlay it on the image\n",
    "heatmap = cv2.applyColorMap(np.uint8(255 * grayscale_cam), cv2.COLORMAP_JET)\n",
    "heatmap = np.float32(heatmap) / 255\n",
    "cam_image = heatmap + img_np\n",
    "cam_image = cam_image / cam_image.max()\n",
    "\n",
    "# Save and display\n",
    "plt.imshow(cam_image)\n",
    "plt.axis('off')\n",
    "plt.title(f'Layer-CAM for Class {target_class}')\n",
    "plt.savefig('./CAM/wrong_2/layer_cam_output.png', bbox_inches='tight', pad_inches=0)\n",
    "plt.savefig('./CAM/wrong_2/layer_cam_output.pdf', bbox_inches='tight', pad_inches=0)\n",
    "plt.show()"
   ]
  },
  {
   "cell_type": "markdown",
   "id": "286d492c-6c93-4068-af92-a02db47c9c61",
   "metadata": {},
   "source": [
    "##### score-cam"
   ]
  },
  {
   "cell_type": "code",
   "execution_count": 573,
   "id": "1c51869b-9549-4e13-b0f4-37d95ec158b3",
   "metadata": {},
   "outputs": [
    {
     "name": "stderr",
     "output_type": "stream",
     "text": [
      "100%|██████████| 2/2 [00:00<00:00, 274.43it/s]\n"
     ]
    },
    {
     "data": {
      "image/png": "[encoded data removed]",
      "text/plain": [
       "<Figure size 640x480 with 1 Axes>"
      ]
     },
     "metadata": {},
     "output_type": "display_data"
    }
   ],
   "source": [
    "from pytorch_grad_cam import ScoreCAM  # Import Score-CAM\n",
    "from pytorch_grad_cam.utils.image import show_cam_on_image\n",
    "from pytorch_grad_cam.utils.model_targets import ClassifierOutputTarget\n",
    "import matplotlib.pyplot as plt\n",
    "import numpy as np\n",
    "import cv2\n",
    "\n",
    "model = model.to(\"cpu\")\n",
    "\n",
    "loaded_test_dataset = DataLoader(test_dataset, batch_size=1, shuffle=False)\n",
    "\n",
    "target_layers = [model.conv_block1]  # Replace with the desired layer\n",
    "\n",
    "with torch.set_grad_enabled(False):\n",
    "    for batch_indx, (inputs, labels) in enumerate(loaded_test_dataset):\n",
    "        if batch_indx == 3850:  # Replace with the desired image index\n",
    "            img_tensor = inputs\n",
    "            img_np = inputs.squeeze(0).permute(1, 2, 0).numpy()\n",
    "            img_np = img_np / img_np.max()  # Normalize to [0, 1]\n",
    "\n",
    "# Apply Score-CAM\n",
    "cam = ScoreCAM(model=model, target_layers=target_layers)  # Use Score-CAM\n",
    "\n",
    "# Set the target class\n",
    "preds = model(img_tensor)  # Get predictions\n",
    "target_class = int(torch.argmax(preds).item())  # Or use `labels.item()`\n",
    "targets = [ClassifierOutputTarget(target_class)]\n",
    "\n",
    "# Generate the CAM\n",
    "grayscale_cam = cam(input_tensor=img_tensor, targets=targets)\n",
    "grayscale_cam = grayscale_cam[0, :]  # For single image\n",
    "\n",
    "# Convert CAM to heatmap and overlay it on the image\n",
    "heatmap = cv2.applyColorMap(np.uint8(255 * grayscale_cam), cv2.COLORMAP_JET)\n",
    "heatmap = np.float32(heatmap) / 255\n",
    "cam_image = heatmap + img_np\n",
    "cam_image = cam_image / cam_image.max()\n",
    "\n",
    "# Save and display\n",
    "plt.imshow(cam_image)\n",
    "plt.axis('off')\n",
    "plt.title(f'Score-CAM for Class {target_class}')\n",
    "plt.savefig('./CAM/wrong_2/score_cam_output.png', bbox_inches='tight', pad_inches=0)\n",
    "plt.savefig('./CAM/wrong_2/score_cam_output.pdf', bbox_inches='tight', pad_inches=0)\n",
    "plt.show()"
   ]
  },
  {
   "cell_type": "code",
   "execution_count": null,
   "id": "b0e8265d-fce0-4807-9c42-803a75de9ea3",
   "metadata": {},
   "outputs": [],
   "source": []
  }
 ],
 "metadata": {
  "kernelspec": {
   "display_name": "SWEdiff",
   "language": "python",
   "name": "swediff"
  },
  "language_info": {
   "codemirror_mode": {
    "name": "ipython",
    "version": 3
   },
   "file_extension": ".py",
   "mimetype": "text/x-python",
   "name": "python",
   "nbconvert_exporter": "python",
   "pygments_lexer": "ipython3",
   "version": "3.9.20"
  }
 },
 "nbformat": 4,
 "nbformat_minor": 5
}
