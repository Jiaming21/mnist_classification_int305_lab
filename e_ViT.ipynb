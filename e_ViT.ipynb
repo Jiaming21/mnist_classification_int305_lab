{
 "cells": [
  {
   "cell_type": "code",
   "execution_count": 2,
   "id": "08adbf4e-9947-42d9-9de2-53642d92fd51",
   "metadata": {},
   "outputs": [],
   "source": [
    "import torch\n",
    "from torch.utils.data import DataLoader\n",
    "from torch import nn\n",
    "import torch.optim as optim\n",
    "import numpy as np\n",
    "from sklearn.metrics import roc_auc_score, accuracy_score, matthews_corrcoef, recall_score, precision_score\n",
    "from sklearn.metrics import confusion_matrix, f1_score, classification_report\n",
    "from sklearn.metrics import roc_curve\n",
    "import torch.nn.functional as F\n",
    "import torchvision\n",
    "from torch import optim\n",
    "from einops import rearrange"
   ]
  },
  {
   "cell_type": "code",
   "execution_count": 3,
   "id": "86676630-63a4-47ce-a1de-00ad7b7815cb",
   "metadata": {},
   "outputs": [],
   "source": [
    "loaded_datasets_info = torch.load('/root/autodl-tmp/data/saved_datasets.pth', weights_only=False)\n",
    "train_dataset = loaded_datasets_info['train_dataset']\n",
    "test_dataset = loaded_datasets_info['test_dataset']"
   ]
  },
  {
   "cell_type": "code",
   "execution_count": 4,
   "id": "8fd37380-5869-4686-a49e-8efc83c251da",
   "metadata": {},
   "outputs": [],
   "source": [
    "batch_size = 100\n",
    "loaded_train_dataset = DataLoader(train_dataset, batch_size = batch_size, shuffle = False)\n",
    "loaded_test_dataset = DataLoader(test_dataset, batch_size = batch_size, shuffle = False)"
   ]
  },
  {
   "cell_type": "code",
   "execution_count": 5,
   "id": "69adbe18-d035-42fc-ba49-34ec34c49c9f",
   "metadata": {},
   "outputs": [],
   "source": [
    "# Block Construction\n",
    "#残差模块，放在每个前馈网络和注意力之后\n",
    "class Residual(nn.Module):\n",
    "    def __init__(self, fn):\n",
    "        super().__init__()\n",
    "        self.fn = fn\n",
    "    def forward(self, x, **kwargs):\n",
    "        return self.fn(x, **kwargs) + x\n",
    "#layernorm归一化,放在多头注意力层和激活函数层。用绝对位置编码的BERT，layernorm用来自身通道归一化\n",
    "class PreNorm(nn.Module):\n",
    "    def __init__(self, dim, fn):\n",
    "        super().__init__()\n",
    "        self.norm = nn.LayerNorm(dim)\n",
    "        self.fn = fn\n",
    "    def forward(self, x, **kwargs):\n",
    "        return self.fn(self.norm(x), **kwargs)\n",
    "#放置多头注意力后，因为在于多头注意力使用的矩阵乘法为线性变换，后面跟上由全连接网络构成的FeedForward增加非线性结构\n",
    "class FeedForward(nn.Module):\n",
    "    def __init__(self, dim, hidden_dim):\n",
    "        super().__init__()\n",
    "        self.net = nn.Sequential(\n",
    "            nn.Linear(dim, hidden_dim),\n",
    "            nn.GELU(),\n",
    "            nn.Linear(hidden_dim, dim)\n",
    "        )\n",
    "    def forward(self, x):\n",
    "        return self.net(x)\n",
    "#多头注意力层，多个自注意力连起来。使用qkv计算\n",
    "class Attention(nn.Module):\n",
    "    def __init__(self, dim, heads=8):\n",
    "        super().__init__()\n",
    "        self.heads = heads\n",
    "        self.scale = dim ** -0.5\n",
    "        self.to_qkv = nn.Linear(dim, dim * 3, bias=False)\n",
    "        self.to_out = nn.Linear(dim, dim)\n",
    "    def forward(self, x, mask = None):\n",
    "        b, n, _, h = *x.shape, self.heads\n",
    "        qkv = self.to_qkv(x)\n",
    "        q, k, v = rearrange(qkv, 'b n (qkv h d) -> qkv b h n d', qkv=3, h=h)\n",
    "        dots = torch.einsum('bhid,bhjd->bhij', q, k) * self.scale\n",
    "        if mask is not None:\n",
    "            mask = F.pad(mask.flatten(1), (1, 0), value = True)\n",
    "            assert mask.shape[-1] == dots.shape[-1], 'mask has incorrect dimensions'\n",
    "            mask = mask[:, None, :] * mask[:, :, None]\n",
    "            dots.masked_fill_(~mask, float('-inf'))\n",
    "            del mask\n",
    "        attn = dots.softmax(dim=-1)\n",
    "        out = torch.einsum('bhij,bhjd->bhid', attn, v)\n",
    "        out = rearrange(out, 'b h n d -> b n (h d)')\n",
    "        out =  self.to_out(out)\n",
    "        return out\n",
    "class Transformer(nn.Module):\n",
    "    def __init__(self, dim, depth, heads, mlp_dim):\n",
    "        super().__init__()\n",
    "        self.layers = nn.ModuleList([])\n",
    "        for _ in range(depth):\n",
    "            self.layers.append(nn.ModuleList([\n",
    "                Residual(PreNorm(dim, Attention(dim, heads = heads))),\n",
    "                Residual(PreNorm(dim, FeedForward(dim, mlp_dim)))\n",
    "            ]))\n",
    "\n",
    "    def forward(self, x, mask=None):\n",
    "        for attn, ff in self.layers:\n",
    "            x = attn(x, mask=mask)\n",
    "            x = ff(x)\n",
    "        return x"
   ]
  },
  {
   "cell_type": "code",
   "execution_count": 6,
   "id": "0a24c20b-16af-4389-bb3d-e9f3ee6147d8",
   "metadata": {},
   "outputs": [],
   "source": [
    "class ViT(nn.Module):\n",
    "    def __init__(self, *, image_size, patch_size, num_classes, dim, depth, heads, mlp_dim, channels=3):\n",
    "        super().__init__()\n",
    "        assert image_size % patch_size == 0, 'image dimensions must be divisible by the patch size'\n",
    "        num_patches = (image_size // patch_size) ** 2\n",
    "        patch_dim = channels * patch_size ** 2\n",
    "        self.patch_size = patch_size\n",
    "        self.pos_embedding = nn.Parameter(torch.randn(1, num_patches + 1, dim))\n",
    "        self.patch_to_embedding = nn.Linear(patch_dim, dim)\n",
    "        self.cls_token = nn.Parameter(torch.randn(1, 1, dim))\n",
    "        self.transformer = Transformer(dim, depth, heads, mlp_dim)\n",
    "        self.to_cls_token = nn.Identity()\n",
    "        self.mlp_head = nn.Sequential(\n",
    "            nn.Linear(dim, mlp_dim),\n",
    "            nn.GELU(),\n",
    "            nn.Linear(mlp_dim, num_classes)\n",
    "        )\n",
    "    def forward(self, img, mask=None):\n",
    "        p = self.patch_size\n",
    "        x = rearrange(img, 'b c (h p1) (w p2) -> b (h w) (p1 p2 c)', p1 = p, p2 = p)\n",
    "        x = self.patch_to_embedding(x)\n",
    "        cls_tokens = self.cls_token.expand(img.shape[0], -1, -1)\n",
    "        x = torch.cat((cls_tokens, x), dim=1)\n",
    "        x += self.pos_embedding\n",
    "        x = self.transformer(x, mask)\n",
    "        x = self.to_cls_token(x[:, 0])\n",
    "        return self.mlp_head(x)"
   ]
  },
  {
   "cell_type": "code",
   "execution_count": 7,
   "id": "305eeac2-6805-47f5-bbbe-585e7e6a56aa",
   "metadata": {},
   "outputs": [],
   "source": [
    "device = \"cuda\"\n",
    "model = ViT(image_size=28, patch_size=7, num_classes=10, channels=1,\n",
    "            dim=64, depth=6, heads=8, mlp_dim=128).to(device)\n",
    "criterion = nn.CrossEntropyLoss().to(device)\n",
    "optimizer = optim.Adam(model.parameters(), lr=0.003)\n",
    "num_epochs = 100"
   ]
  },
  {
   "cell_type": "code",
   "execution_count": 8,
   "id": "cdd49a46-df0b-4459-bd2e-164d01694342",
   "metadata": {},
   "outputs": [
    {
     "name": "stdout",
     "output_type": "stream",
     "text": [
      "Epoch 1/100, Loss: 60.44487608782947\n",
      "Epoch 2/100, Loss: 27.828421958411734\n",
      "Epoch 3/100, Loss: 21.855132795870304\n",
      "Epoch 4/100, Loss: 19.358019636323053\n",
      "Epoch 5/100, Loss: 17.195818985967588\n",
      "Epoch 6/100, Loss: 15.838713768830834\n",
      "Epoch 7/100, Loss: 14.301272416332116\n",
      "Epoch 8/100, Loss: 13.077235239402702\n",
      "Epoch 9/100, Loss: 11.880156619668318\n",
      "Epoch 10/100, Loss: 11.464516702049877\n",
      "Epoch 11/100, Loss: 11.281181266880594\n",
      "Epoch 12/100, Loss: 9.48727128082343\n",
      "Epoch 13/100, Loss: 9.786673468712252\n",
      "Epoch 14/100, Loss: 9.618827106804625\n",
      "Epoch 15/100, Loss: 8.274525318585802\n",
      "Epoch 16/100, Loss: 8.576216706773266\n",
      "Epoch 17/100, Loss: 7.948327713374359\n",
      "Epoch 18/100, Loss: 7.56794088636525\n",
      "Epoch 19/100, Loss: 6.890172587828904\n",
      "Epoch 20/100, Loss: 7.144634677659876\n",
      "Epoch 21/100, Loss: 7.3053300137883825\n",
      "Epoch 22/100, Loss: 6.736016026058981\n",
      "Epoch 23/100, Loss: 6.178776565716059\n",
      "Epoch 24/100, Loss: 6.310916322186434\n",
      "Epoch 25/100, Loss: 6.32780683471113\n",
      "Epoch 26/100, Loss: 5.979847875546208\n",
      "Epoch 27/100, Loss: 5.551536379019429\n",
      "Epoch 28/100, Loss: 5.21297255314433\n",
      "Epoch 29/100, Loss: 5.011243855737727\n",
      "Epoch 30/100, Loss: 5.615991175205636\n",
      "Epoch 31/100, Loss: 5.168324309162017\n",
      "Epoch 32/100, Loss: 5.950475844311465\n",
      "Epoch 33/100, Loss: 4.8942833510688315\n",
      "Epoch 34/100, Loss: 4.608414472391208\n",
      "Epoch 35/100, Loss: 4.937973070948526\n",
      "Epoch 36/100, Loss: 4.723117919592217\n",
      "Epoch 37/100, Loss: 4.762493606024388\n",
      "Epoch 38/100, Loss: 4.30024370439484\n",
      "Epoch 39/100, Loss: 4.553071288901265\n",
      "Epoch 40/100, Loss: 4.34161925783125\n",
      "Epoch 41/100, Loss: 4.341347996299494\n",
      "Epoch 42/100, Loss: 4.24648073370372\n",
      "Epoch 43/100, Loss: 4.804990221574674\n",
      "Epoch 44/100, Loss: 4.220457064554618\n",
      "Epoch 45/100, Loss: 4.416176544333818\n",
      "Epoch 46/100, Loss: 3.3954038370305475\n",
      "Epoch 47/100, Loss: 3.532750032351032\n",
      "Epoch 48/100, Loss: 4.872518632445765\n",
      "Epoch 49/100, Loss: 3.714030180887979\n",
      "Epoch 50/100, Loss: 3.9372390496470566\n",
      "Epoch 51/100, Loss: 3.877092903803335\n",
      "Epoch 52/100, Loss: 3.5691940955636405\n",
      "Epoch 53/100, Loss: 3.5372719723460855\n",
      "Epoch 54/100, Loss: 3.2332032880707025\n",
      "Epoch 55/100, Loss: 3.8318419128674273\n",
      "Epoch 56/100, Loss: 3.4175494166470344\n",
      "Epoch 57/100, Loss: 3.2703248346457863\n",
      "Epoch 58/100, Loss: 3.2581348733019695\n",
      "Epoch 59/100, Loss: 3.2744963110420335\n",
      "Epoch 60/100, Loss: 2.829619195831583\n",
      "Epoch 61/100, Loss: 3.5222782730112763\n",
      "Epoch 62/100, Loss: 3.3346222136230304\n",
      "Epoch 63/100, Loss: 3.543723870141548\n",
      "Epoch 64/100, Loss: 2.7722177071379215\n",
      "Epoch 65/100, Loss: 2.817468349312245\n",
      "Epoch 66/100, Loss: 3.878072644281474\n",
      "Epoch 67/100, Loss: 2.5793403325117956\n",
      "Epoch 68/100, Loss: 3.064133729001393\n",
      "Epoch 69/100, Loss: 2.904299737273201\n",
      "Epoch 70/100, Loss: 2.8876941984007467\n",
      "Epoch 71/100, Loss: 3.153231648962295\n",
      "Epoch 72/100, Loss: 2.5248810209177464\n",
      "Epoch 73/100, Loss: 2.791195256324196\n",
      "Epoch 74/100, Loss: 3.0156092320248717\n",
      "Epoch 75/100, Loss: 2.712495996689919\n",
      "Epoch 76/100, Loss: 3.4809052061118564\n",
      "Epoch 77/100, Loss: 2.55100612030004\n",
      "Epoch 78/100, Loss: 3.402756907467998\n",
      "Epoch 79/100, Loss: 3.383927587983029\n",
      "Epoch 80/100, Loss: 2.2249926045418156\n",
      "Epoch 81/100, Loss: 2.2604582711713497\n",
      "Epoch 82/100, Loss: 4.135548194108803\n",
      "Epoch 83/100, Loss: 2.9072989437875854\n",
      "Epoch 84/100, Loss: 2.714738223946521\n",
      "Epoch 85/100, Loss: 2.553759141215096\n",
      "Epoch 86/100, Loss: 2.5043316740142623\n",
      "Epoch 87/100, Loss: 3.356891280721053\n",
      "Epoch 88/100, Loss: 2.6219298408335967\n",
      "Epoch 89/100, Loss: 2.8764770049583603\n",
      "Epoch 90/100, Loss: 2.430137394959123\n",
      "Epoch 91/100, Loss: 2.7601159835066937\n",
      "Epoch 92/100, Loss: 2.3207425113368267\n",
      "Epoch 93/100, Loss: 3.1910157688869654\n",
      "Epoch 94/100, Loss: 1.6281982983095418\n",
      "Epoch 95/100, Loss: 3.1396863217481346\n",
      "Epoch 96/100, Loss: 3.3282478790131336\n",
      "Epoch 97/100, Loss: 2.6336771508568595\n",
      "Epoch 98/100, Loss: 2.995693481672106\n",
      "Epoch 99/100, Loss: 3.0476132002803147\n",
      "Epoch 100/100, Loss: 2.5657242761540147\n"
     ]
    }
   ],
   "source": [
    "for epoch in range(num_epochs):\n",
    "    model.train()\n",
    "    running_loss = 0.0\n",
    "    for batch_indx, (inputs, labels) in enumerate(loaded_train_dataset):\n",
    "        inputs = inputs.to(device)\n",
    "        labels = labels.to(device)\n",
    "        \n",
    "        optimizer.zero_grad()\n",
    "        outputs = model(inputs)\n",
    "        loss = criterion(outputs, labels)\n",
    "        loss.backward()\n",
    "        optimizer.step()\n",
    "        \n",
    "        running_loss += loss.item()\n",
    "        \n",
    "    # Print average loss for the epoch\n",
    "    print(f\"Epoch {epoch+1}/{num_epochs}, Loss: {running_loss / (len(loaded_train_dataset) / batch_size)}\")  "
   ]
  },
  {
   "cell_type": "code",
   "execution_count": 9,
   "id": "fc66bc0e-082a-4dbd-8daf-e0aa26d16982",
   "metadata": {},
   "outputs": [],
   "source": [
    "torch.save(model.state_dict(), './model_params/ViT.pth')"
   ]
  },
  {
   "cell_type": "code",
   "execution_count": 10,
   "id": "6d1c8d16-03f8-4c07-af9b-86a9d02eea5d",
   "metadata": {},
   "outputs": [
    {
     "name": "stderr",
     "output_type": "stream",
     "text": [
      "/tmp/ipykernel_1329/420038812.py:1: FutureWarning: You are using `torch.load` with `weights_only=False` (the current default value), which uses the default pickle module implicitly. It is possible to construct malicious pickle data which will execute arbitrary code during unpickling (See https://github.com/pytorch/pytorch/blob/main/SECURITY.md#untrusted-models for more details). In a future release, the default value for `weights_only` will be flipped to `True`. This limits the functions that could be executed during unpickling. Arbitrary objects will no longer be allowed to be loaded via this mode unless they are explicitly allowlisted by the user via `torch.serialization.add_safe_globals`. We recommend you start setting `weights_only=True` for any use case where you don't have full control of the loaded file. Please open an issue on GitHub for any issues related to this experimental feature.\n",
      "  model.load_state_dict(torch.load('./model_params/ViT.pth'))\n"
     ]
    },
    {
     "data": {
      "text/plain": [
       "<All keys matched successfully>"
      ]
     },
     "execution_count": 10,
     "metadata": {},
     "output_type": "execute_result"
    }
   ],
   "source": [
    "model.load_state_dict(torch.load('./model_params/ViT.pth'))"
   ]
  },
  {
   "cell_type": "markdown",
   "id": "2fcdd5fa-0eb0-44a3-ab6d-2f3137371d21",
   "metadata": {},
   "source": [
    "### Metrics function definition"
   ]
  },
  {
   "cell_type": "code",
   "execution_count": 24,
   "id": "f9dc138a-4df7-4164-bc54-1c32c6ad2654",
   "metadata": {},
   "outputs": [],
   "source": [
    "# get roc_auc, metrics_sn, metrics_sp, metrics_ACC, metrics_F1, metrics_MCC\n",
    "def calculate_multiclass_metrics(true_labels, predicted_labels, predicted_probabilities, num_classes):\n",
    "    accuracy = accuracy_score(true_labels, predicted_labels)\n",
    "    mcc = matthews_corrcoef(true_labels, predicted_labels)\n",
    "    \n",
    "    sensitivity_per_class = []\n",
    "    specificity_per_class = []\n",
    "    auc_per_class = []\n",
    "    f1_per_class = []\n",
    "\n",
    "    for i in range(num_classes):\n",
    "        true_binary = (np.array(true_labels) == i).astype(int)\n",
    "        pred_binary = (np.array(predicted_labels) == i).astype(int)\n",
    "\n",
    "        cm = confusion_matrix(true_binary, pred_binary, labels=[0, 1])\n",
    "        tn, fp, fn, tp = cm.ravel()\n",
    "\n",
    "        sensitivity = tp / (tp + fn) if (tp + fn) > 0 else 0\n",
    "        specificity = tn / (tn + fp) if (tn + fp) > 0 else 0\n",
    "        sensitivity_per_class.append(sensitivity)\n",
    "        specificity_per_class.append(specificity)\n",
    "\n",
    "        \n",
    "        auc = roc_auc_score(true_binary, predicted_probabilities[:, i]) if len(np.unique(true_binary)) > 1 else 0\n",
    "        auc_per_class.append(auc)\n",
    "\n",
    "        f1 = f1_score(true_binary, pred_binary) if len(np.unique(true_binary)) > 1 else 0\n",
    "        f1_per_class.append(f1)\n",
    "\n",
    "    avg_sensitivity = np.mean(sensitivity_per_class)\n",
    "    avg_specificity = np.mean(specificity_per_class)\n",
    "    avg_auc = np.mean(auc_per_class) if auc_per_class else 0\n",
    "    avg_f1 = np.mean(f1_per_class)\n",
    "\n",
    "    print(f\"Average AUC: {avg_auc:.4f}\")\n",
    "    print(f\"Average Sensitivity: {avg_sensitivity:.4f}\")\n",
    "    print(f\"Average Specificity: {avg_specificity:.4f}\")\n",
    "    print(f\"Accuracy: {accuracy:.4f}\")\n",
    "    print(f\"Average F1-score: {avg_f1:.4f}\")\n",
    "    print(f\"Matthews Correlation Coefficient (MCC): {mcc:.4f}\")"
   ]
  },
  {
   "cell_type": "markdown",
   "id": "6a31433c-e0e2-4d59-bf44-9686791a0611",
   "metadata": {},
   "source": [
    "### Training data metrics"
   ]
  },
  {
   "cell_type": "code",
   "execution_count": 25,
   "id": "c3680c87-985b-4f75-8c9c-a4ee0b201957",
   "metadata": {},
   "outputs": [],
   "source": [
    "predicted_probabilities = []\n",
    "true_labels = []\n",
    "with torch.set_grad_enabled(False):\n",
    "    for batch_indx, (inputs, labels) in enumerate(loaded_train_dataset):\n",
    "        inputs = inputs.to(device)\n",
    "        labels = labels.to(device)      \n",
    "        outputs = model(inputs)\n",
    "        predicted_probabilities.extend(outputs.tolist())\n",
    "        true_labels.extend(labels.tolist())"
   ]
  },
  {
   "cell_type": "code",
   "execution_count": 26,
   "id": "4fb1a2ab-283c-410e-aeb2-1eb27a4ba72c",
   "metadata": {},
   "outputs": [
    {
     "name": "stdout",
     "output_type": "stream",
     "text": [
      "Average AUC: 0.9997\n",
      "Average Sensitivity: 0.9832\n",
      "Average Specificity: 0.9982\n",
      "Accuracy: 0.9836\n",
      "Average F1-score: 0.9834\n",
      "Matthews Correlation Coefficient (MCC): 0.9818\n"
     ]
    }
   ],
   "source": [
    "true_labels_ = np.argmax(true_labels, axis=-1)\n",
    "predicted_labels = np.argmax(predicted_probabilities, axis=-1)\n",
    "preds = torch.tensor(predicted_probabilities)\n",
    "preds = F.softmax(preds, dim=-1)\n",
    "\n",
    "train_metrics = calculate_multiclass_metrics(true_labels_, predicted_labels, preds, num_classes=10)"
   ]
  },
  {
   "cell_type": "code",
   "execution_count": 27,
   "id": "4fe9ae79-f128-4429-8a41-8d28bdf8d696",
   "metadata": {},
   "outputs": [],
   "source": [
    "np.save('/root/autodl-tmp/ROC/ViT/y_train_pred.npy', preds)\n",
    "np.save('/root/autodl-tmp/ROC/ViT/y_train.npy', true_labels)"
   ]
  },
  {
   "cell_type": "markdown",
   "id": "a8c02969-e6c4-4104-9629-c941380e686a",
   "metadata": {},
   "source": [
    "### Testing data metrics"
   ]
  },
  {
   "cell_type": "code",
   "execution_count": 31,
   "id": "25500b28-0706-4817-a87b-20aac0aade96",
   "metadata": {},
   "outputs": [],
   "source": [
    "predicted_probabilities = []  \n",
    "true_labels = []  \n",
    "with torch.set_grad_enabled(False): \n",
    "    for batch_indx, (inputs, labels) in enumerate(loaded_test_dataset):\n",
    "        inputs = inputs.to(device)\n",
    "        labels = labels.to(device)    \n",
    "        outputs = model(inputs)\n",
    "        predicted_probabilities.extend(outputs.tolist())\n",
    "        true_labels.extend(labels.tolist())"
   ]
  },
  {
   "cell_type": "code",
   "execution_count": 32,
   "id": "e0167c72-831d-4cd5-9366-2330e4712b4d",
   "metadata": {},
   "outputs": [
    {
     "name": "stdout",
     "output_type": "stream",
     "text": [
      "Average AUC: 0.9971\n",
      "Average Sensitivity: 0.9507\n",
      "Average Specificity: 0.9946\n",
      "Accuracy: 0.9515\n",
      "Average F1-score: 0.9513\n",
      "Matthews Correlation Coefficient (MCC): 0.9462\n"
     ]
    }
   ],
   "source": [
    "true_labels_ = np.argmax(true_labels, axis=-1)\n",
    "predicted_labels = np.argmax(predicted_probabilities, axis=-1)\n",
    "preds = torch.tensor(predicted_probabilities)\n",
    "preds = F.softmax(preds, dim=-1)\n",
    "\n",
    "test_metrics = calculate_multiclass_metrics(true_labels_, predicted_labels, preds, num_classes=10)"
   ]
  },
  {
   "cell_type": "code",
   "execution_count": 33,
   "id": "1ec8d54a-4f0c-4b04-8722-6e899b6cd643",
   "metadata": {},
   "outputs": [],
   "source": [
    "np.save('/root/autodl-tmp/ROC/ViT/y_test_pred.npy', preds)\n",
    "np.save('/root/autodl-tmp/ROC/ViT/y_test.npy', true_labels)"
   ]
  },
  {
   "cell_type": "code",
   "execution_count": null,
   "id": "29c6905c-e6d3-4e5e-a3ed-c88edc47666a",
   "metadata": {},
   "outputs": [],
   "source": []
  }
 ],
 "metadata": {
  "kernelspec": {
   "display_name": "SWEdiff",
   "language": "python",
   "name": "swediff"
  },
  "language_info": {
   "codemirror_mode": {
    "name": "ipython",
    "version": 3
   },
   "file_extension": ".py",
   "mimetype": "text/x-python",
   "name": "python",
   "nbconvert_exporter": "python",
   "pygments_lexer": "ipython3",
   "version": "3.9.20"
  }
 },
 "nbformat": 4,
 "nbformat_minor": 5
}
