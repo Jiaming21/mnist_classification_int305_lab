{
 "cells": [
  {
   "cell_type": "code",
   "execution_count": 1,
   "id": "08adbf4e-9947-42d9-9de2-53642d92fd51",
   "metadata": {},
   "outputs": [],
   "source": [
    "import torch\n",
    "from torch.utils.data import DataLoader\n",
    "from torch import nn\n",
    "import torch.optim as optim\n",
    "import numpy as np\n",
    "from sklearn.metrics import roc_auc_score, accuracy_score, matthews_corrcoef, recall_score, precision_score\n",
    "from sklearn.metrics import confusion_matrix, f1_score, classification_report\n",
    "from sklearn.metrics import roc_curve\n",
    "import torch.nn.functional as F"
   ]
  },
  {
   "cell_type": "code",
   "execution_count": 2,
   "id": "86676630-63a4-47ce-a1de-00ad7b7815cb",
   "metadata": {},
   "outputs": [],
   "source": [
    "loaded_datasets_info = torch.load('/root/autodl-tmp/data/saved_datasets.pth', weights_only=False)\n",
    "train_dataset = loaded_datasets_info['train_dataset']\n",
    "test_dataset = loaded_datasets_info['test_dataset']"
   ]
  },
  {
   "cell_type": "code",
   "execution_count": 3,
   "id": "8fd37380-5869-4686-a49e-8efc83c251da",
   "metadata": {},
   "outputs": [],
   "source": [
    "batch_size = 100\n",
    "loaded_train_dataset = DataLoader(train_dataset, batch_size = batch_size, shuffle = False)\n",
    "loaded_test_dataset = DataLoader(test_dataset, batch_size = batch_size, shuffle = False)"
   ]
  },
  {
   "cell_type": "code",
   "execution_count": 4,
   "id": "305eeac2-6805-47f5-bbbe-585e7e6a56aa",
   "metadata": {},
   "outputs": [],
   "source": [
    "class Rnn(nn.Module):\n",
    "    def __init__(self, in_dim, hidden_dim, n_layer, n_classes):\n",
    "        super(Rnn, self).__init__()\n",
    "        self.n_layer = n_layer\n",
    "        self.hidden_dim = hidden_dim\n",
    "        self.lstm = nn.LSTM(in_dim, hidden_dim, n_layer, batch_first=True)\n",
    "        self.classifier = nn.Linear(hidden_dim, n_classes)\n",
    "\n",
    "    def forward(self, x):\n",
    "        out, (h_n, c_n) = self.lstm(x)\n",
    "        # 此时可以从out中获得最终输出的状态h\n",
    "        # x = out[:, -1, :]\n",
    "        x = h_n[-1, :, :]\n",
    "        x = self.classifier(x)\n",
    "        return x"
   ]
  },
  {
   "cell_type": "code",
   "execution_count": 5,
   "id": "e945dca8-3abf-4485-8545-1b4290026319",
   "metadata": {},
   "outputs": [],
   "source": [
    "device = \"cuda\"\n",
    "model = Rnn(28, 10, 2, 10).to(device)\n",
    "criterion = nn.CrossEntropyLoss().to(device)\n",
    "optimizer = torch.optim.SGD(model.parameters(), lr=0.1, momentum=0.9)\n",
    "num_epochs = 200"
   ]
  },
  {
   "cell_type": "code",
   "execution_count": 6,
   "id": "cdd49a46-df0b-4459-bd2e-164d01694342",
   "metadata": {},
   "outputs": [
    {
     "name": "stdout",
     "output_type": "stream",
     "text": [
      "Epoch 1/200, Loss: 126.19795826077461\n",
      "Epoch 2/200, Loss: 66.11290494849284\n",
      "Epoch 3/200, Loss: 52.597390815615654\n",
      "Epoch 4/200, Loss: 47.459223276625075\n",
      "Epoch 5/200, Loss: 38.547007297476135\n",
      "Epoch 6/200, Loss: 37.162990103165306\n",
      "Epoch 7/200, Loss: 36.307579005757965\n",
      "Epoch 8/200, Loss: 36.78123012805978\n",
      "Epoch 9/200, Loss: 32.717815804605685\n",
      "Epoch 10/200, Loss: 32.46670545016726\n",
      "Epoch 11/200, Loss: 38.18728304281831\n",
      "Epoch 12/200, Loss: 33.91482072571913\n",
      "Epoch 13/200, Loss: 33.838294779260956\n",
      "Epoch 14/200, Loss: 29.267536561315257\n",
      "Epoch 15/200, Loss: 27.233152664266527\n",
      "Epoch 16/200, Loss: 26.681678202624123\n",
      "Epoch 17/200, Loss: 28.460340965539217\n",
      "Epoch 18/200, Loss: 26.445654776568215\n",
      "Epoch 19/200, Loss: 25.904589142029483\n",
      "Epoch 20/200, Loss: 25.09128775075078\n",
      "Epoch 21/200, Loss: 24.711430778416496\n",
      "Epoch 22/200, Loss: 24.713333634970088\n",
      "Epoch 23/200, Loss: 23.924099241072934\n",
      "Epoch 24/200, Loss: 27.321048800523084\n",
      "Epoch 25/200, Loss: 29.47803341348966\n",
      "Epoch 26/200, Loss: 30.50377452125152\n",
      "Epoch 27/200, Loss: 31.714137823010486\n",
      "Epoch 28/200, Loss: 27.698633400102455\n",
      "Epoch 29/200, Loss: 26.97165880041818\n",
      "Epoch 30/200, Loss: 25.26843681248526\n",
      "Epoch 31/200, Loss: 25.18804976561417\n",
      "Epoch 32/200, Loss: 23.491674470094342\n",
      "Epoch 33/200, Loss: 23.54046055053671\n",
      "Epoch 34/200, Loss: 21.94135714136064\n",
      "Epoch 35/200, Loss: 24.508796675751608\n",
      "Epoch 36/200, Loss: 23.59395380069812\n",
      "Epoch 37/200, Loss: 23.119258346036077\n",
      "Epoch 38/200, Loss: 22.268493274537224\n",
      "Epoch 39/200, Loss: 22.02682924984644\n",
      "Epoch 40/200, Loss: 24.281249480011564\n",
      "Epoch 41/200, Loss: 23.98204164672643\n",
      "Epoch 42/200, Loss: 22.938935493739944\n",
      "Epoch 43/200, Loss: 22.285629792138934\n",
      "Epoch 44/200, Loss: 20.14922141438971\n",
      "Epoch 45/200, Loss: 20.098421440770228\n",
      "Epoch 46/200, Loss: 21.501493311797578\n",
      "Epoch 47/200, Loss: 22.777806468928855\n",
      "Epoch 48/200, Loss: 20.97210978064686\n",
      "Epoch 49/200, Loss: 19.428367789834738\n",
      "Epoch 50/200, Loss: 19.378218040491145\n",
      "Epoch 51/200, Loss: 19.244216483396787\n",
      "Epoch 52/200, Loss: 19.21961750400563\n",
      "Epoch 53/200, Loss: 18.849985376000404\n",
      "Epoch 54/200, Loss: 19.105993810420234\n",
      "Epoch 55/200, Loss: 20.156848170794547\n",
      "Epoch 56/200, Loss: 19.19412228030463\n",
      "Epoch 57/200, Loss: 19.49871467705816\n",
      "Epoch 58/200, Loss: 19.16639913028727\n",
      "Epoch 59/200, Loss: 18.042454663974542\n",
      "Epoch 60/200, Loss: 17.601657909651596\n",
      "Epoch 61/200, Loss: 19.417715440814693\n",
      "Epoch 62/200, Loss: 20.675797996732097\n",
      "Epoch 63/200, Loss: 19.55280731447662\n",
      "Epoch 64/200, Loss: 19.246621186379343\n",
      "Epoch 65/200, Loss: 20.013721958423655\n",
      "Epoch 66/200, Loss: 22.710394180379808\n",
      "Epoch 67/200, Loss: 20.63750472664833\n",
      "Epoch 68/200, Loss: 19.827527831618983\n",
      "Epoch 69/200, Loss: 20.45357922123124\n",
      "Epoch 70/200, Loss: 20.323957754609484\n",
      "Epoch 71/200, Loss: 19.10169634502381\n",
      "Epoch 72/200, Loss: 18.666630963484447\n",
      "Epoch 73/200, Loss: 18.864869938542444\n",
      "Epoch 74/200, Loss: 18.157195397031803\n",
      "Epoch 75/200, Loss: 19.280463876202703\n",
      "Epoch 76/200, Loss: 18.242958194576204\n",
      "Epoch 77/200, Loss: 18.457111697643995\n",
      "Epoch 78/200, Loss: 18.082593913190067\n",
      "Epoch 79/200, Loss: 17.82960365805775\n",
      "Epoch 80/200, Loss: 17.739772669350106\n",
      "Epoch 81/200, Loss: 17.81887853673349\n",
      "Epoch 82/200, Loss: 17.75838930827255\n",
      "Epoch 83/200, Loss: 18.29793411431213\n",
      "Epoch 84/200, Loss: 18.82775165109585\n",
      "Epoch 85/200, Loss: 17.822935187413048\n",
      "Epoch 86/200, Loss: 17.979354456843186\n",
      "Epoch 87/200, Loss: 18.37628507303695\n",
      "Epoch 88/200, Loss: 17.85895129976173\n",
      "Epoch 89/200, Loss: 18.890979540534317\n",
      "Epoch 90/200, Loss: 19.473146388307214\n",
      "Epoch 91/200, Loss: 19.591934399679303\n",
      "Epoch 92/200, Loss: 18.090347142269213\n",
      "Epoch 93/200, Loss: 17.12280195004617\n",
      "Epoch 94/200, Loss: 17.31028780977552\n",
      "Epoch 95/200, Loss: 17.208278852825362\n",
      "Epoch 96/200, Loss: 17.318268122772377\n",
      "Epoch 97/200, Loss: 17.224046159225207\n",
      "Epoch 98/200, Loss: 16.867697324603796\n",
      "Epoch 99/200, Loss: 16.939492012684543\n",
      "Epoch 100/200, Loss: 16.561706598692883\n",
      "Epoch 101/200, Loss: 16.094730597610276\n",
      "Epoch 102/200, Loss: 16.55579050661375\n",
      "Epoch 103/200, Loss: 16.852945276536047\n",
      "Epoch 104/200, Loss: 19.50129294736932\n",
      "Epoch 105/200, Loss: 16.988870897330344\n",
      "Epoch 106/200, Loss: 17.098955245378118\n",
      "Epoch 107/200, Loss: 16.740579250579078\n",
      "Epoch 108/200, Loss: 16.7914665400361\n",
      "Epoch 109/200, Loss: 16.499511030036956\n",
      "Epoch 110/200, Loss: 16.05901021246488\n",
      "Epoch 111/200, Loss: 16.26783050550148\n",
      "Epoch 112/200, Loss: 16.01156347974514\n",
      "Epoch 113/200, Loss: 17.442474839743227\n",
      "Epoch 114/200, Loss: 19.228654084106285\n",
      "Epoch 115/200, Loss: 18.880233609428007\n",
      "Epoch 116/200, Loss: 17.750525341834873\n",
      "Epoch 117/200, Loss: 18.98792972958957\n",
      "Epoch 118/200, Loss: 18.251263301819563\n",
      "Epoch 119/200, Loss: 17.900086168199778\n",
      "Epoch 120/200, Loss: 17.39037490791331\n",
      "Epoch 121/200, Loss: 16.692862069389474\n",
      "Epoch 122/200, Loss: 16.12882359822591\n",
      "Epoch 123/200, Loss: 16.495217652680974\n",
      "Epoch 124/200, Loss: 16.35100448333348\n",
      "Epoch 125/200, Loss: 16.856852116063237\n",
      "Epoch 126/200, Loss: 16.794276664188754\n",
      "Epoch 127/200, Loss: 16.25066069777434\n",
      "Epoch 128/200, Loss: 16.422428175807\n",
      "Epoch 129/200, Loss: 15.61129172736158\n",
      "Epoch 130/200, Loss: 15.3974181592154\n",
      "Epoch 131/200, Loss: 15.309458445602408\n",
      "Epoch 132/200, Loss: 16.51125724799931\n",
      "Epoch 133/200, Loss: 15.385835944830129\n",
      "Epoch 134/200, Loss: 15.06313344448184\n",
      "Epoch 135/200, Loss: 14.70187071726347\n",
      "Epoch 136/200, Loss: 14.99206264844785\n",
      "Epoch 137/200, Loss: 15.270627147362879\n",
      "Epoch 138/200, Loss: 15.407604899878303\n",
      "Epoch 139/200, Loss: 15.71674688385489\n",
      "Epoch 140/200, Loss: 16.04790946887806\n",
      "Epoch 141/200, Loss: 14.774923164552698\n",
      "Epoch 142/200, Loss: 14.419018466956913\n",
      "Epoch 143/200, Loss: 14.679471076155702\n",
      "Epoch 144/200, Loss: 14.38888536610951\n",
      "Epoch 145/200, Loss: 14.351303997604797\n",
      "Epoch 146/200, Loss: 14.315499347789833\n",
      "Epoch 147/200, Loss: 14.690752955308804\n",
      "Epoch 148/200, Loss: 14.815387743214766\n",
      "Epoch 149/200, Loss: 14.598516568851968\n",
      "Epoch 150/200, Loss: 15.389657941957315\n",
      "Epoch 151/200, Loss: 15.274440847570077\n",
      "Epoch 152/200, Loss: 14.919346823667487\n",
      "Epoch 153/200, Loss: 14.694215888778368\n",
      "Epoch 154/200, Loss: 14.180491497119268\n",
      "Epoch 155/200, Loss: 14.622548112024864\n",
      "Epoch 156/200, Loss: 14.84978638853257\n",
      "Epoch 157/200, Loss: 14.584886213143667\n",
      "Epoch 158/200, Loss: 14.707754059694707\n",
      "Epoch 159/200, Loss: 15.019687621621415\n",
      "Epoch 160/200, Loss: 14.20355977412934\n",
      "Epoch 161/200, Loss: 13.997288691888874\n",
      "Epoch 162/200, Loss: 14.576308403319368\n",
      "Epoch 163/200, Loss: 14.29998863620373\n",
      "Epoch 164/200, Loss: 13.915209750644863\n",
      "Epoch 165/200, Loss: 14.137806619051844\n",
      "Epoch 166/200, Loss: 13.853209923409546\n",
      "Epoch 167/200, Loss: 14.27508871195217\n",
      "Epoch 168/200, Loss: 14.716142968740314\n",
      "Epoch 169/200, Loss: 14.427580074717602\n",
      "Epoch 170/200, Loss: 14.382912442088127\n",
      "Epoch 171/200, Loss: 14.448103963552663\n",
      "Epoch 172/200, Loss: 14.578688405143717\n",
      "Epoch 173/200, Loss: 14.702040851581842\n",
      "Epoch 174/200, Loss: 14.263642770083\n",
      "Epoch 175/200, Loss: 14.5275575753379\n",
      "Epoch 176/200, Loss: 14.416060250562927\n",
      "Epoch 177/200, Loss: 14.117150492034853\n",
      "Epoch 178/200, Loss: 14.002828634964922\n",
      "Epoch 179/200, Loss: 13.81670079062072\n",
      "Epoch 180/200, Loss: 14.02721668073597\n",
      "Epoch 181/200, Loss: 14.614124577647695\n",
      "Epoch 182/200, Loss: 14.217737610219046\n",
      "Epoch 183/200, Loss: 14.374634583713487\n",
      "Epoch 184/200, Loss: 14.44397817660744\n",
      "Epoch 185/200, Loss: 14.372970804960156\n",
      "Epoch 186/200, Loss: 14.143130159781625\n",
      "Epoch 187/200, Loss: 13.971795687607178\n",
      "Epoch 188/200, Loss: 13.868666282156482\n",
      "Epoch 189/200, Loss: 13.683635697932914\n",
      "Epoch 190/200, Loss: 14.269048634606103\n",
      "Epoch 191/200, Loss: 15.62298610798704\n",
      "Epoch 192/200, Loss: 14.04671729177547\n",
      "Epoch 193/200, Loss: 13.961865047613779\n",
      "Epoch 194/200, Loss: 14.866044488269836\n",
      "Epoch 195/200, Loss: 14.196418193556989\n",
      "Epoch 196/200, Loss: 14.215762339144325\n",
      "Epoch 197/200, Loss: 14.47909483142818\n",
      "Epoch 198/200, Loss: 14.720343929715455\n",
      "Epoch 199/200, Loss: 14.766478224657476\n",
      "Epoch 200/200, Loss: 14.254537246655673\n"
     ]
    }
   ],
   "source": [
    "for epoch in range(num_epochs):\n",
    "    model.train()\n",
    "    running_loss = 0.0\n",
    "    for batch_indx, (inputs, labels) in enumerate(loaded_train_dataset):\n",
    "        inputs = inputs.squeeze(1).to(device)\n",
    "        labels = labels.to(device)\n",
    "        \n",
    "        optimizer.zero_grad()\n",
    "        outputs = model(inputs)\n",
    "        loss = criterion(outputs, labels)\n",
    "        loss.backward()\n",
    "        optimizer.step()\n",
    "        \n",
    "        running_loss += loss.item()\n",
    "        \n",
    "    # Print average loss for the epoch\n",
    "    print(f\"Epoch {epoch+1}/{num_epochs}, Loss: {running_loss / (len(loaded_train_dataset) / batch_size)}\")  "
   ]
  },
  {
   "cell_type": "code",
   "execution_count": 7,
   "id": "8acb4e21-6355-4fe4-879a-e9cc753b0f33",
   "metadata": {},
   "outputs": [],
   "source": [
    "torch.save(model.state_dict(), './model_params/LSTM.pth')"
   ]
  },
  {
   "cell_type": "code",
   "execution_count": 8,
   "id": "8eb74e4e-12f9-46ee-ad90-30e4eb38dfaf",
   "metadata": {},
   "outputs": [
    {
     "name": "stderr",
     "output_type": "stream",
     "text": [
      "/tmp/ipykernel_1289/3218175715.py:1: FutureWarning: You are using `torch.load` with `weights_only=False` (the current default value), which uses the default pickle module implicitly. It is possible to construct malicious pickle data which will execute arbitrary code during unpickling (See https://github.com/pytorch/pytorch/blob/main/SECURITY.md#untrusted-models for more details). In a future release, the default value for `weights_only` will be flipped to `True`. This limits the functions that could be executed during unpickling. Arbitrary objects will no longer be allowed to be loaded via this mode unless they are explicitly allowlisted by the user via `torch.serialization.add_safe_globals`. We recommend you start setting `weights_only=True` for any use case where you don't have full control of the loaded file. Please open an issue on GitHub for any issues related to this experimental feature.\n",
      "  model.load_state_dict(torch.load('./model_params/LSTM.pth'))\n"
     ]
    },
    {
     "data": {
      "text/plain": [
       "<All keys matched successfully>"
      ]
     },
     "execution_count": 8,
     "metadata": {},
     "output_type": "execute_result"
    }
   ],
   "source": [
    "model.load_state_dict(torch.load('./model_params/LSTM.pth'))"
   ]
  },
  {
   "cell_type": "markdown",
   "id": "2fcdd5fa-0eb0-44a3-ab6d-2f3137371d21",
   "metadata": {},
   "source": [
    "### Metrics function definition"
   ]
  },
  {
   "cell_type": "code",
   "execution_count": 31,
   "id": "f9dc138a-4df7-4164-bc54-1c32c6ad2654",
   "metadata": {},
   "outputs": [],
   "source": [
    "# get roc_auc, metrics_sn, metrics_sp, metrics_ACC, metrics_F1, metrics_MCC\n",
    "def calculate_multiclass_metrics(true_labels, predicted_labels, predicted_probabilities, num_classes):\n",
    "    accuracy = accuracy_score(true_labels, predicted_labels)\n",
    "    mcc = matthews_corrcoef(true_labels, predicted_labels)\n",
    "    \n",
    "    sensitivity_per_class = []\n",
    "    specificity_per_class = []\n",
    "    auc_per_class = []\n",
    "    f1_per_class = []\n",
    "\n",
    "    for i in range(num_classes):\n",
    "        true_binary = (np.array(true_labels) == i).astype(int)\n",
    "        pred_binary = (np.array(predicted_labels) == i).astype(int)\n",
    "\n",
    "        cm = confusion_matrix(true_binary, pred_binary, labels=[0, 1])\n",
    "        tn, fp, fn, tp = cm.ravel()\n",
    "\n",
    "        sensitivity = tp / (tp + fn) if (tp + fn) > 0 else 0\n",
    "        specificity = tn / (tn + fp) if (tn + fp) > 0 else 0\n",
    "        sensitivity_per_class.append(sensitivity)\n",
    "        specificity_per_class.append(specificity)\n",
    "\n",
    "        \n",
    "        auc = roc_auc_score(true_binary, predicted_probabilities[:, i]) if len(np.unique(true_binary)) > 1 else 0\n",
    "        auc_per_class.append(auc)\n",
    "\n",
    "        f1 = f1_score(true_binary, pred_binary) if len(np.unique(true_binary)) > 1 else 0\n",
    "        f1_per_class.append(f1)\n",
    "\n",
    "    avg_sensitivity = np.mean(sensitivity_per_class)\n",
    "    avg_specificity = np.mean(specificity_per_class)\n",
    "    avg_auc = np.mean(auc_per_class) if auc_per_class else 0\n",
    "    avg_f1 = np.mean(f1_per_class)\n",
    "\n",
    "    print(f\"Average AUC: {avg_auc:.4f}\")\n",
    "    print(f\"Average Sensitivity: {avg_sensitivity:.4f}\")\n",
    "    print(f\"Average Specificity: {avg_specificity:.4f}\")\n",
    "    print(f\"Accuracy: {accuracy:.4f}\")\n",
    "    print(f\"Average F1-score: {avg_f1:.4f}\")\n",
    "    print(f\"Matthews Correlation Coefficient (MCC): {mcc:.4f}\")"
   ]
  },
  {
   "cell_type": "markdown",
   "id": "6a31433c-e0e2-4d59-bf44-9686791a0611",
   "metadata": {},
   "source": [
    "### Training data metrics"
   ]
  },
  {
   "cell_type": "code",
   "execution_count": 32,
   "id": "c3680c87-985b-4f75-8c9c-a4ee0b201957",
   "metadata": {},
   "outputs": [],
   "source": [
    "predicted_probabilities = []\n",
    "true_labels = []\n",
    "with torch.set_grad_enabled(False):\n",
    "    for batch_indx, (inputs, labels) in enumerate(loaded_train_dataset):\n",
    "        inputs = inputs.squeeze(1).to(device)\n",
    "        labels = labels.to(device)      \n",
    "        outputs = model(inputs)\n",
    "        predicted_probabilities.extend(outputs.tolist())\n",
    "        true_labels.extend(labels.tolist())"
   ]
  },
  {
   "cell_type": "code",
   "execution_count": 33,
   "id": "4fb1a2ab-283c-410e-aeb2-1eb27a4ba72c",
   "metadata": {},
   "outputs": [
    {
     "name": "stdout",
     "output_type": "stream",
     "text": [
      "Average AUC: 0.9978\n",
      "Average Sensitivity: 0.9470\n",
      "Average Specificity: 0.9942\n",
      "Accuracy: 0.9473\n",
      "Average F1-score: 0.9468\n",
      "Matthews Correlation Coefficient (MCC): 0.9415\n"
     ]
    }
   ],
   "source": [
    "true_labels_ = np.argmax(true_labels, axis=-1)\n",
    "predicted_labels = np.argmax(predicted_probabilities, axis=-1)\n",
    "preds = torch.tensor(predicted_probabilities)\n",
    "preds = F.softmax(preds, dim=-1)\n",
    "\n",
    "train_metrics = calculate_multiclass_metrics(true_labels_, predicted_labels, preds, num_classes=10)"
   ]
  },
  {
   "cell_type": "code",
   "execution_count": 34,
   "id": "4fe9ae79-f128-4429-8a41-8d28bdf8d696",
   "metadata": {},
   "outputs": [],
   "source": [
    "np.save('/root/autodl-tmp/ROC/LSTM/y_train_pred.npy', preds)\n",
    "np.save('/root/autodl-tmp/ROC/LSTM/y_train.npy', true_labels)"
   ]
  },
  {
   "cell_type": "markdown",
   "id": "a8c02969-e6c4-4104-9629-c941380e686a",
   "metadata": {},
   "source": [
    "### Testing data metrics"
   ]
  },
  {
   "cell_type": "code",
   "execution_count": 35,
   "id": "25500b28-0706-4817-a87b-20aac0aade96",
   "metadata": {},
   "outputs": [],
   "source": [
    "predicted_probabilities = []  \n",
    "true_labels = []  \n",
    "with torch.set_grad_enabled(False): \n",
    "    for batch_indx, (inputs, labels) in enumerate(loaded_test_dataset):\n",
    "        inputs = inputs.squeeze(1).to(device)\n",
    "        labels = labels.to(device)    \n",
    "        outputs = model(inputs)\n",
    "        predicted_probabilities.extend(outputs.tolist())\n",
    "        true_labels.extend(labels.tolist())"
   ]
  },
  {
   "cell_type": "code",
   "execution_count": 36,
   "id": "e0167c72-831d-4cd5-9366-2330e4712b4d",
   "metadata": {},
   "outputs": [
    {
     "name": "stdout",
     "output_type": "stream",
     "text": [
      "Average AUC: 0.9980\n",
      "Average Sensitivity: 0.9447\n",
      "Average Specificity: 0.9939\n",
      "Accuracy: 0.9449\n",
      "Average F1-score: 0.9444\n",
      "Matthews Correlation Coefficient (MCC): 0.9389\n"
     ]
    }
   ],
   "source": [
    "true_labels_ = np.argmax(true_labels, axis=-1)\n",
    "predicted_labels = np.argmax(predicted_probabilities, axis=-1)\n",
    "preds = torch.tensor(predicted_probabilities)\n",
    "preds = F.softmax(preds, dim=-1)\n",
    "\n",
    "test_metrics = calculate_multiclass_metrics(true_labels_, predicted_labels, preds, num_classes=10)"
   ]
  },
  {
   "cell_type": "code",
   "execution_count": 37,
   "id": "1ec8d54a-4f0c-4b04-8722-6e899b6cd643",
   "metadata": {},
   "outputs": [],
   "source": [
    "np.save('/root/autodl-tmp/ROC/LSTM/y_test_pred.npy', preds)\n",
    "np.save('/root/autodl-tmp/ROC/LSTM/y_test.npy', true_labels)"
   ]
  },
  {
   "cell_type": "code",
   "execution_count": null,
   "id": "29c6905c-e6d3-4e5e-a3ed-c88edc47666a",
   "metadata": {},
   "outputs": [],
   "source": []
  }
 ],
 "metadata": {
  "kernelspec": {
   "display_name": "SWEdiff",
   "language": "python",
   "name": "swediff"
  },
  "language_info": {
   "codemirror_mode": {
    "name": "ipython",
    "version": 3
   },
   "file_extension": ".py",
   "mimetype": "text/x-python",
   "name": "python",
   "nbconvert_exporter": "python",
   "pygments_lexer": "ipython3",
   "version": "3.9.20"
  }
 },
 "nbformat": 4,
 "nbformat_minor": 5
}
