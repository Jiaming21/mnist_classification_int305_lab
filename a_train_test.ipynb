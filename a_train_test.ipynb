{
 "cells": [
  {
   "cell_type": "code",
   "execution_count": 44,
   "id": "153349bd-5e3f-44ff-928b-d5b95f616229",
   "metadata": {},
   "outputs": [
    {
     "name": "stdout",
     "output_type": "stream",
     "text": [
      "/root/autodl-tmp\n"
     ]
    }
   ],
   "source": [
    "import os\n",
    "print(os.getcwd())"
   ]
  },
  {
   "cell_type": "code",
   "execution_count": 45,
   "id": "ba63dbd7-3740-4d63-82e7-db13eed16411",
   "metadata": {},
   "outputs": [],
   "source": [
    "os.chdir(\"/root/autodl-tmp/\")"
   ]
  },
  {
   "cell_type": "code",
   "execution_count": 52,
   "id": "7b249596-f7d3-41b1-8ed5-d3411800585b",
   "metadata": {},
   "outputs": [],
   "source": [
    "#Scientific computing \n",
    "import numpy as np\n",
    "\n",
    "#Pytorch packages\n",
    "import torch\n",
    "from torch import nn\n",
    "import torch.optim as optim\n",
    "import torchvision\n",
    "from torchvision import datasets, transforms\n",
    "from torch.utils.data import TensorDataset\n",
    "\n",
    "#Visulization\n",
    "import matplotlib.pyplot as plt\n",
    "\n",
    "#Others\n",
    "import time\n",
    "import copy\n",
    "import gzip"
   ]
  },
  {
   "cell_type": "code",
   "execution_count": 53,
   "id": "8027b8ec-d4ec-4eee-969c-0d812bdc2622",
   "metadata": {},
   "outputs": [],
   "source": [
    "#transform = transforms.Compose([transforms.ToTensor(),\n",
    "#                              transforms.Normalize((0.5,), (0.5,)),\n",
    "#                              ])\n",
    "#\n",
    "#train_set = datasets.MNIST('data/', download=False, train=True, transform=transform)\n",
    "#test_set = datasets.MNIST('data/', download=False, train=False, transform=transform)"
   ]
  },
  {
   "cell_type": "code",
   "execution_count": 54,
   "id": "3c44cdcd-8fb9-4750-aa51-d959a89ffc33",
   "metadata": {},
   "outputs": [],
   "source": [
    "def load_mnist_images(filename):\n",
    "    with gzip.open(filename, 'rb') as f:\n",
    "        f.read(16)\n",
    "        images = np.frombuffer(f.read(), dtype=np.uint8)\n",
    "        images = images.reshape(-1, 28, 28)\n",
    "    return images"
   ]
  },
  {
   "cell_type": "code",
   "execution_count": 55,
   "id": "67fffd12-fce8-4542-b53b-8442e44f7ffb",
   "metadata": {},
   "outputs": [],
   "source": [
    "def load_mnist_labels(filename):\n",
    "    with gzip.open(filename, 'rb') as f:\n",
    "        f.read(8)\n",
    "        labels = np.frombuffer(f.read(), dtype=np.uint8)\n",
    "    return labels"
   ]
  },
  {
   "cell_type": "code",
   "execution_count": 56,
   "id": "19b01416-f4e9-4217-aae6-02ee4ed99739",
   "metadata": {},
   "outputs": [],
   "source": [
    "x_train = load_mnist_images(\"./data/MNIST/raw/train-images-idx3-ubyte.gz\")\n",
    "y_train = load_mnist_labels(\"./data/MNIST/raw/train-labels-idx1-ubyte.gz\")\n",
    "x_test = load_mnist_images(\"./data/MNIST/raw/t10k-images-idx3-ubyte.gz\")\n",
    "y_test = load_mnist_labels(\"./data/MNIST/raw/t10k-labels-idx1-ubyte.gz\")"
   ]
  },
  {
   "cell_type": "code",
   "execution_count": 57,
   "id": "60d4333b-60fe-4b78-8e9e-b02064c02231",
   "metadata": {},
   "outputs": [],
   "source": [
    "y_train_oh = np.eye(10)[y_train]\n",
    "y_test_oh = np.eye(10)[y_test]"
   ]
  },
  {
   "cell_type": "code",
   "execution_count": 58,
   "id": "4840eff6-f223-4f6e-8862-1e1b22b65783",
   "metadata": {},
   "outputs": [],
   "source": [
    "y_train_oh = torch.tensor(y_train_oh, dtype=torch.float32)\n",
    "y_test_oh = torch.tensor(y_test_oh, dtype=torch.float32)"
   ]
  },
  {
   "cell_type": "code",
   "execution_count": 59,
   "id": "111c8c49-68ce-403d-9130-769beb6f2f9f",
   "metadata": {},
   "outputs": [],
   "source": [
    "x_train = torch.tensor(np.expand_dims(x_train, 1), dtype=torch.float32)\n",
    "x_test = torch.tensor(np.expand_dims(x_test, 1), dtype=torch.float32)"
   ]
  },
  {
   "cell_type": "code",
   "execution_count": 60,
   "id": "a6296937-2d68-4f1d-a407-5f3ccf036e3a",
   "metadata": {},
   "outputs": [],
   "source": [
    "train_dataset = TensorDataset(x_train, y_train_oh)\n",
    "test_dataset = TensorDataset(x_test, y_test_oh)"
   ]
  },
  {
   "cell_type": "code",
   "execution_count": 61,
   "id": "5cc189cb-efd8-4c7c-b979-c5e388e73809",
   "metadata": {},
   "outputs": [],
   "source": [
    "torch.save({\n",
    "    'train_dataset': train_dataset,  \n",
    "    'test_dataset': test_dataset\n",
    "}, '/root/autodl-tmp/data/saved_datasets.pth')"
   ]
  },
  {
   "cell_type": "code",
   "execution_count": null,
   "id": "c844e80c-5288-4713-b3ab-306cbbe14aa5",
   "metadata": {},
   "outputs": [],
   "source": []
  },
  {
   "cell_type": "code",
   "execution_count": null,
   "id": "d7717276-4ec4-4049-ad50-51386f320f01",
   "metadata": {},
   "outputs": [],
   "source": []
  },
  {
   "cell_type": "code",
   "execution_count": null,
   "id": "e3682637-0c3d-4e83-9d61-3494c67e2338",
   "metadata": {},
   "outputs": [],
   "source": []
  },
  {
   "cell_type": "code",
   "execution_count": null,
   "id": "301ba8d7-84f8-419c-92a7-95355b9a0e5d",
   "metadata": {},
   "outputs": [],
   "source": []
  },
  {
   "cell_type": "code",
   "execution_count": null,
   "id": "ea415c66-63ad-46d1-a5ac-d3f3e78e6d8b",
   "metadata": {},
   "outputs": [],
   "source": []
  },
  {
   "cell_type": "code",
   "execution_count": null,
   "id": "78ece6c6-0836-4dd2-802b-aa0443fa53d1",
   "metadata": {},
   "outputs": [],
   "source": []
  },
  {
   "cell_type": "code",
   "execution_count": 17,
   "id": "aa19b71f-9ef4-4ba6-8e4f-e10b621d4a9c",
   "metadata": {},
   "outputs": [
    {
     "data": {
      "image/png": "[encoded data removed]",
      "text/plain": [
       "<Figure size 1500x300 with 5 Axes>"
      ]
     },
     "metadata": {},
     "output_type": "display_data"
    }
   ],
   "source": [
    "import matplotlib.pyplot as plt\n",
    "\n",
    "# 随机选择一些样本进行可视化\n",
    "dataiter = iter(train_loader)\n",
    "images, labels = next(dataiter)\n",
    "\n",
    "# 显示图片\n",
    "fig, axs = plt.subplots(1, 5, figsize=(15, 3))  # 创建一个包含 5 个子图的图形\n",
    "for i in range(5):\n",
    "    axs[i].imshow(images[i].squeeze(), cmap='gray')  # squeeze 去除多余的维度\n",
    "    axs[i].set_title(f'Label: {labels[i]}')  # 显示标签\n",
    "    axs[i].axis('off')  # 关闭坐标轴\n",
    "\n",
    "plt.show()  # 显示所有图像\n"
   ]
  },
  {
   "cell_type": "code",
   "execution_count": null,
   "id": "7d246edb-7569-4f0a-83ee-a648380d9c25",
   "metadata": {},
   "outputs": [],
   "source": []
  }
 ],
 "metadata": {
  "kernelspec": {
   "display_name": "SWEdiff",
   "language": "python",
   "name": "swediff"
  },
  "language_info": {
   "codemirror_mode": {
    "name": "ipython",
    "version": 3
   },
   "file_extension": ".py",
   "mimetype": "text/x-python",
   "name": "python",
   "nbconvert_exporter": "python",
   "pygments_lexer": "ipython3",
   "version": "3.9.20"
  }
 },
 "nbformat": 4,
 "nbformat_minor": 5
}
